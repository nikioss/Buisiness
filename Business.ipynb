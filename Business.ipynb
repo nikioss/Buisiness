{
 "cells": [
  {
   "cell_type": "markdown",
   "metadata": {},
   "source": [
    "# Выбор локации для скважины"
   ]
  },
  {
   "cell_type": "markdown",
   "metadata": {},
   "source": [
    "Компании нужно решить, где бурить новую скважину.\n",
    "\n",
    "Предоставлены пробы нефти в трёх регионах: в каждом 10 000 месторождений, где измерили качество нефти и объём её запасов. \n",
    "\n",
    "Цель: постройть модель машинного обучения, которая поможет определить регион, где добыча принесёт наибольшую прибыль.\n",
    "\n",
    "Шаги для выбора локации:\n",
    "\n",
    "- В избранном регионе ищут месторождения, для каждого определяют значения признаков;\n",
    "- Строят модель и оценивают объём запасов;\n",
    "- Выбирают месторождения с самым высокими оценками значений. Количество месторождений зависит от бюджета компании и стоимости разработки одной скважины;\n",
    "- Прибыль равна суммарной прибыли отобранных месторождений."
   ]
  },
  {
   "cell_type": "markdown",
   "metadata": {},
   "source": [
    "## Загрузка и подготовка данных"
   ]
  },
  {
   "cell_type": "code",
   "execution_count": 1,
   "metadata": {},
   "outputs": [],
   "source": [
    "import os\n",
    "import warnings\n",
    "import re\n",
    "import pandas as pd\n",
    "import numpy as np\n",
    "from numpy.random import RandomState\n",
    "import seaborn as sns\n",
    "import matplotlib.pyplot as plt\n",
    "from scipy import stats as st\n",
    "from sklearn.linear_model import LinearRegression\n",
    "from sklearn.model_selection import train_test_split\n",
    "from sklearn.metrics import mean_absolute_error, r2_score, mean_squared_error"
   ]
  },
  {
   "cell_type": "code",
   "execution_count": 2,
   "metadata": {},
   "outputs": [],
   "source": [
    "warnings.filterwarnings('ignore')"
   ]
  },
  {
   "cell_type": "code",
   "execution_count": 3,
   "metadata": {},
   "outputs": [],
   "source": [
    "RANDOM_STATE = 42\n",
    "TEST_SIZE = 0.25"
   ]
  },
  {
   "cell_type": "code",
   "execution_count": 4,
   "metadata": {},
   "outputs": [],
   "source": [
    "pth1 = '/datasets/geo_data_0.csv'\n",
    "pth2 = '/datasets/geo_data_1.csv'\n",
    "pth3 = '/datasets/geo_data_2.csv'\n",
    "\n",
    "\n",
    "\n",
    "if os.path.exists(pth1):\n",
    "    geo_1 = pd.read_csv(pth1)\n",
    "else:\n",
    "    print('Something is wrong')\n",
    "    \n",
    "if os.path.exists(pth2):\n",
    "    geo_2 = pd.read_csv(pth2)\n",
    "else:\n",
    "    print('Something is wrong')\n",
    "    \n",
    "if os.path.exists(pth3):\n",
    "    geo_3 = pd.read_csv(pth3)\n",
    "else:\n",
    "    print('Something is wrong')\n",
    "    "
   ]
  },
  {
   "cell_type": "code",
   "execution_count": 5,
   "metadata": {
    "scrolled": true
   },
   "outputs": [
    {
     "name": "stdout",
     "output_type": "stream",
     "text": [
      "<class 'pandas.core.frame.DataFrame'>\n",
      "RangeIndex: 100000 entries, 0 to 99999\n",
      "Data columns (total 5 columns):\n",
      " #   Column   Non-Null Count   Dtype  \n",
      "---  ------   --------------   -----  \n",
      " 0   id       100000 non-null  object \n",
      " 1   f0       100000 non-null  float64\n",
      " 2   f1       100000 non-null  float64\n",
      " 3   f2       100000 non-null  float64\n",
      " 4   product  100000 non-null  float64\n",
      "dtypes: float64(4), object(1)\n",
      "memory usage: 3.8+ MB\n"
     ]
    }
   ],
   "source": [
    "geo_1.info()"
   ]
  },
  {
   "cell_type": "code",
   "execution_count": 6,
   "metadata": {
    "scrolled": true
   },
   "outputs": [
    {
     "name": "stdout",
     "output_type": "stream",
     "text": [
      "<class 'pandas.core.frame.DataFrame'>\n",
      "RangeIndex: 100000 entries, 0 to 99999\n",
      "Data columns (total 5 columns):\n",
      " #   Column   Non-Null Count   Dtype  \n",
      "---  ------   --------------   -----  \n",
      " 0   id       100000 non-null  object \n",
      " 1   f0       100000 non-null  float64\n",
      " 2   f1       100000 non-null  float64\n",
      " 3   f2       100000 non-null  float64\n",
      " 4   product  100000 non-null  float64\n",
      "dtypes: float64(4), object(1)\n",
      "memory usage: 3.8+ MB\n"
     ]
    }
   ],
   "source": [
    "geo_2.info()"
   ]
  },
  {
   "cell_type": "code",
   "execution_count": 7,
   "metadata": {
    "scrolled": true
   },
   "outputs": [
    {
     "name": "stdout",
     "output_type": "stream",
     "text": [
      "<class 'pandas.core.frame.DataFrame'>\n",
      "RangeIndex: 100000 entries, 0 to 99999\n",
      "Data columns (total 5 columns):\n",
      " #   Column   Non-Null Count   Dtype  \n",
      "---  ------   --------------   -----  \n",
      " 0   id       100000 non-null  object \n",
      " 1   f0       100000 non-null  float64\n",
      " 2   f1       100000 non-null  float64\n",
      " 3   f2       100000 non-null  float64\n",
      " 4   product  100000 non-null  float64\n",
      "dtypes: float64(4), object(1)\n",
      "memory usage: 3.8+ MB\n"
     ]
    }
   ],
   "source": [
    "geo_3.info()"
   ]
  },
  {
   "cell_type": "code",
   "execution_count": 8,
   "metadata": {},
   "outputs": [
    {
     "data": {
      "text/html": [
       "<div>\n",
       "<style scoped>\n",
       "    .dataframe tbody tr th:only-of-type {\n",
       "        vertical-align: middle;\n",
       "    }\n",
       "\n",
       "    .dataframe tbody tr th {\n",
       "        vertical-align: top;\n",
       "    }\n",
       "\n",
       "    .dataframe thead th {\n",
       "        text-align: right;\n",
       "    }\n",
       "</style>\n",
       "<table border=\"1\" class=\"dataframe\">\n",
       "  <thead>\n",
       "    <tr style=\"text-align: right;\">\n",
       "      <th></th>\n",
       "      <th>id</th>\n",
       "      <th>f0</th>\n",
       "      <th>f1</th>\n",
       "      <th>f2</th>\n",
       "      <th>product</th>\n",
       "    </tr>\n",
       "  </thead>\n",
       "  <tbody>\n",
       "    <tr>\n",
       "      <th>0</th>\n",
       "      <td>txEyH</td>\n",
       "      <td>0.705745</td>\n",
       "      <td>-0.497823</td>\n",
       "      <td>1.221170</td>\n",
       "      <td>105.280062</td>\n",
       "    </tr>\n",
       "    <tr>\n",
       "      <th>1</th>\n",
       "      <td>2acmU</td>\n",
       "      <td>1.334711</td>\n",
       "      <td>-0.340164</td>\n",
       "      <td>4.365080</td>\n",
       "      <td>73.037750</td>\n",
       "    </tr>\n",
       "    <tr>\n",
       "      <th>2</th>\n",
       "      <td>409Wp</td>\n",
       "      <td>1.022732</td>\n",
       "      <td>0.151990</td>\n",
       "      <td>1.419926</td>\n",
       "      <td>85.265647</td>\n",
       "    </tr>\n",
       "  </tbody>\n",
       "</table>\n",
       "</div>"
      ],
      "text/plain": [
       "      id        f0        f1        f2     product\n",
       "0  txEyH  0.705745 -0.497823  1.221170  105.280062\n",
       "1  2acmU  1.334711 -0.340164  4.365080   73.037750\n",
       "2  409Wp  1.022732  0.151990  1.419926   85.265647"
      ]
     },
     "execution_count": 8,
     "metadata": {},
     "output_type": "execute_result"
    }
   ],
   "source": [
    "geo_1.head(3)"
   ]
  },
  {
   "cell_type": "code",
   "execution_count": 9,
   "metadata": {},
   "outputs": [
    {
     "data": {
      "text/html": [
       "<div>\n",
       "<style scoped>\n",
       "    .dataframe tbody tr th:only-of-type {\n",
       "        vertical-align: middle;\n",
       "    }\n",
       "\n",
       "    .dataframe tbody tr th {\n",
       "        vertical-align: top;\n",
       "    }\n",
       "\n",
       "    .dataframe thead th {\n",
       "        text-align: right;\n",
       "    }\n",
       "</style>\n",
       "<table border=\"1\" class=\"dataframe\">\n",
       "  <thead>\n",
       "    <tr style=\"text-align: right;\">\n",
       "      <th></th>\n",
       "      <th>id</th>\n",
       "      <th>f0</th>\n",
       "      <th>f1</th>\n",
       "      <th>f2</th>\n",
       "      <th>product</th>\n",
       "    </tr>\n",
       "  </thead>\n",
       "  <tbody>\n",
       "    <tr>\n",
       "      <th>0</th>\n",
       "      <td>kBEdx</td>\n",
       "      <td>-15.001348</td>\n",
       "      <td>-8.276000</td>\n",
       "      <td>-0.005876</td>\n",
       "      <td>3.179103</td>\n",
       "    </tr>\n",
       "    <tr>\n",
       "      <th>1</th>\n",
       "      <td>62mP7</td>\n",
       "      <td>14.272088</td>\n",
       "      <td>-3.475083</td>\n",
       "      <td>0.999183</td>\n",
       "      <td>26.953261</td>\n",
       "    </tr>\n",
       "    <tr>\n",
       "      <th>2</th>\n",
       "      <td>vyE1P</td>\n",
       "      <td>6.263187</td>\n",
       "      <td>-5.948386</td>\n",
       "      <td>5.001160</td>\n",
       "      <td>134.766305</td>\n",
       "    </tr>\n",
       "  </tbody>\n",
       "</table>\n",
       "</div>"
      ],
      "text/plain": [
       "      id         f0        f1        f2     product\n",
       "0  kBEdx -15.001348 -8.276000 -0.005876    3.179103\n",
       "1  62mP7  14.272088 -3.475083  0.999183   26.953261\n",
       "2  vyE1P   6.263187 -5.948386  5.001160  134.766305"
      ]
     },
     "execution_count": 9,
     "metadata": {},
     "output_type": "execute_result"
    }
   ],
   "source": [
    "geo_2.head(3)"
   ]
  },
  {
   "cell_type": "code",
   "execution_count": 10,
   "metadata": {
    "scrolled": true
   },
   "outputs": [
    {
     "data": {
      "text/html": [
       "<div>\n",
       "<style scoped>\n",
       "    .dataframe tbody tr th:only-of-type {\n",
       "        vertical-align: middle;\n",
       "    }\n",
       "\n",
       "    .dataframe tbody tr th {\n",
       "        vertical-align: top;\n",
       "    }\n",
       "\n",
       "    .dataframe thead th {\n",
       "        text-align: right;\n",
       "    }\n",
       "</style>\n",
       "<table border=\"1\" class=\"dataframe\">\n",
       "  <thead>\n",
       "    <tr style=\"text-align: right;\">\n",
       "      <th></th>\n",
       "      <th>id</th>\n",
       "      <th>f0</th>\n",
       "      <th>f1</th>\n",
       "      <th>f2</th>\n",
       "      <th>product</th>\n",
       "    </tr>\n",
       "  </thead>\n",
       "  <tbody>\n",
       "    <tr>\n",
       "      <th>0</th>\n",
       "      <td>fwXo0</td>\n",
       "      <td>-1.146987</td>\n",
       "      <td>0.963328</td>\n",
       "      <td>-0.828965</td>\n",
       "      <td>27.758673</td>\n",
       "    </tr>\n",
       "    <tr>\n",
       "      <th>1</th>\n",
       "      <td>WJtFt</td>\n",
       "      <td>0.262778</td>\n",
       "      <td>0.269839</td>\n",
       "      <td>-2.530187</td>\n",
       "      <td>56.069697</td>\n",
       "    </tr>\n",
       "    <tr>\n",
       "      <th>2</th>\n",
       "      <td>ovLUW</td>\n",
       "      <td>0.194587</td>\n",
       "      <td>0.289035</td>\n",
       "      <td>-5.586433</td>\n",
       "      <td>62.871910</td>\n",
       "    </tr>\n",
       "  </tbody>\n",
       "</table>\n",
       "</div>"
      ],
      "text/plain": [
       "      id        f0        f1        f2    product\n",
       "0  fwXo0 -1.146987  0.963328 -0.828965  27.758673\n",
       "1  WJtFt  0.262778  0.269839 -2.530187  56.069697\n",
       "2  ovLUW  0.194587  0.289035 -5.586433  62.871910"
      ]
     },
     "execution_count": 10,
     "metadata": {},
     "output_type": "execute_result"
    }
   ],
   "source": [
    "geo_3.head(3)"
   ]
  },
  {
   "cell_type": "markdown",
   "metadata": {},
   "source": [
    "Данные соотвествуют описанию задачи. Во всех трех датафреймах по 100000 объектов."
   ]
  },
  {
   "cell_type": "code",
   "execution_count": 11,
   "metadata": {
    "scrolled": true
   },
   "outputs": [
    {
     "name": "stdout",
     "output_type": "stream",
     "text": [
      "Пропуски: id         0\n",
      "f0         0\n",
      "f1         0\n",
      "f2         0\n",
      "product    0\n",
      "dtype: int64\n",
      "\n",
      "Пропуски: id         0\n",
      "f0         0\n",
      "f1         0\n",
      "f2         0\n",
      "product    0\n",
      "dtype: int64\n",
      "\n",
      "Пропуски: id         0\n",
      "f0         0\n",
      "f1         0\n",
      "f2         0\n",
      "product    0\n",
      "dtype: int64\n",
      "\n"
     ]
    }
   ],
   "source": [
    "#Проверим наличие пропусков \n",
    "dates = [geo_1, geo_2, geo_3]\n",
    "for data in dates:\n",
    "    print(f'Пропуски: {data.isna().sum()}')\n",
    "    print()"
   ]
  },
  {
   "cell_type": "code",
   "execution_count": 12,
   "metadata": {},
   "outputs": [
    {
     "name": "stdout",
     "output_type": "stream",
     "text": [
      "Явных дубликатов в market_data: 0\n",
      "Явных дубликатов в market_money_data: 0\n",
      "Явных дубликатов в time_data: 0\n"
     ]
    }
   ],
   "source": [
    "#Проверим наличие явных дубликатов\n",
    "print(f'Явных дубликатов в market_data: {geo_1.duplicated().sum()}')\n",
    "print(f'Явных дубликатов в market_money_data: {geo_2.duplicated().sum()}')\n",
    "print(f'Явных дубликатов в time_data: {geo_3.duplicated().sum()}')\n"
   ]
  },
  {
   "cell_type": "code",
   "execution_count": 13,
   "metadata": {},
   "outputs": [
    {
     "name": "stdout",
     "output_type": "stream",
     "text": [
      "Количество уникальных значений id в geo_1: 99990\n",
      "Количество уникальных значений id в geo_2: 99996\n",
      "Количество уникальных значений id в geo_3: 99996\n"
     ]
    }
   ],
   "source": [
    "#Проверим наличие неявных дубликатов\n",
    "print(f'Количество уникальных значений id в geo_1: {geo_1[\"id\"].nunique()}')\n",
    "print(f'Количество уникальных значений id в geo_2: {geo_2[\"id\"].nunique()}')\n",
    "print(f'Количество уникальных значений id в geo_3: {geo_3[\"id\"].nunique()}')"
   ]
  },
  {
   "cell_type": "markdown",
   "metadata": {},
   "source": [
    "Данные находятся в нужным типах. Пропущенных значений нет, дубликатов нет. Данные готовы для дальнейшей обработки."
   ]
  },
  {
   "cell_type": "code",
   "execution_count": 14,
   "metadata": {
    "scrolled": true
   },
   "outputs": [
    {
     "data": {
      "text/html": [
       "<div>\n",
       "<style scoped>\n",
       "    .dataframe tbody tr th:only-of-type {\n",
       "        vertical-align: middle;\n",
       "    }\n",
       "\n",
       "    .dataframe tbody tr th {\n",
       "        vertical-align: top;\n",
       "    }\n",
       "\n",
       "    .dataframe thead th {\n",
       "        text-align: right;\n",
       "    }\n",
       "</style>\n",
       "<table border=\"1\" class=\"dataframe\">\n",
       "  <thead>\n",
       "    <tr style=\"text-align: right;\">\n",
       "      <th></th>\n",
       "      <th>f0</th>\n",
       "      <th>f1</th>\n",
       "      <th>f2</th>\n",
       "      <th>product</th>\n",
       "    </tr>\n",
       "  </thead>\n",
       "  <tbody>\n",
       "    <tr>\n",
       "      <th>count</th>\n",
       "      <td>100000.000000</td>\n",
       "      <td>100000.000000</td>\n",
       "      <td>100000.000000</td>\n",
       "      <td>100000.000000</td>\n",
       "    </tr>\n",
       "    <tr>\n",
       "      <th>mean</th>\n",
       "      <td>0.500419</td>\n",
       "      <td>0.250143</td>\n",
       "      <td>2.502647</td>\n",
       "      <td>92.500000</td>\n",
       "    </tr>\n",
       "    <tr>\n",
       "      <th>std</th>\n",
       "      <td>0.871832</td>\n",
       "      <td>0.504433</td>\n",
       "      <td>3.248248</td>\n",
       "      <td>44.288691</td>\n",
       "    </tr>\n",
       "    <tr>\n",
       "      <th>min</th>\n",
       "      <td>-1.408605</td>\n",
       "      <td>-0.848218</td>\n",
       "      <td>-12.088328</td>\n",
       "      <td>0.000000</td>\n",
       "    </tr>\n",
       "    <tr>\n",
       "      <th>25%</th>\n",
       "      <td>-0.072580</td>\n",
       "      <td>-0.200881</td>\n",
       "      <td>0.287748</td>\n",
       "      <td>56.497507</td>\n",
       "    </tr>\n",
       "    <tr>\n",
       "      <th>50%</th>\n",
       "      <td>0.502360</td>\n",
       "      <td>0.250252</td>\n",
       "      <td>2.515969</td>\n",
       "      <td>91.849972</td>\n",
       "    </tr>\n",
       "    <tr>\n",
       "      <th>75%</th>\n",
       "      <td>1.073581</td>\n",
       "      <td>0.700646</td>\n",
       "      <td>4.715088</td>\n",
       "      <td>128.564089</td>\n",
       "    </tr>\n",
       "    <tr>\n",
       "      <th>max</th>\n",
       "      <td>2.362331</td>\n",
       "      <td>1.343769</td>\n",
       "      <td>16.003790</td>\n",
       "      <td>185.364347</td>\n",
       "    </tr>\n",
       "  </tbody>\n",
       "</table>\n",
       "</div>"
      ],
      "text/plain": [
       "                  f0             f1             f2        product\n",
       "count  100000.000000  100000.000000  100000.000000  100000.000000\n",
       "mean        0.500419       0.250143       2.502647      92.500000\n",
       "std         0.871832       0.504433       3.248248      44.288691\n",
       "min        -1.408605      -0.848218     -12.088328       0.000000\n",
       "25%        -0.072580      -0.200881       0.287748      56.497507\n",
       "50%         0.502360       0.250252       2.515969      91.849972\n",
       "75%         1.073581       0.700646       4.715088     128.564089\n",
       "max         2.362331       1.343769      16.003790     185.364347"
      ]
     },
     "execution_count": 14,
     "metadata": {},
     "output_type": "execute_result"
    }
   ],
   "source": [
    "geo_1.describe()"
   ]
  },
  {
   "cell_type": "markdown",
   "metadata": {},
   "source": [
    "- Первый признак: среднее значение и медиана - 0.5\n",
    "- Второй признак: среднее значение и медиана - 0.25\n",
    "- Третий признак: среднее значение - 2.50, медиана - 2.52\n",
    "- Объем запасов: среднее значение - 91.8, медиана - 92.5"
   ]
  },
  {
   "cell_type": "code",
   "execution_count": 15,
   "metadata": {
    "scrolled": true
   },
   "outputs": [
    {
     "data": {
      "text/html": [
       "<div>\n",
       "<style scoped>\n",
       "    .dataframe tbody tr th:only-of-type {\n",
       "        vertical-align: middle;\n",
       "    }\n",
       "\n",
       "    .dataframe tbody tr th {\n",
       "        vertical-align: top;\n",
       "    }\n",
       "\n",
       "    .dataframe thead th {\n",
       "        text-align: right;\n",
       "    }\n",
       "</style>\n",
       "<table border=\"1\" class=\"dataframe\">\n",
       "  <thead>\n",
       "    <tr style=\"text-align: right;\">\n",
       "      <th></th>\n",
       "      <th>f0</th>\n",
       "      <th>f1</th>\n",
       "      <th>f2</th>\n",
       "      <th>product</th>\n",
       "    </tr>\n",
       "  </thead>\n",
       "  <tbody>\n",
       "    <tr>\n",
       "      <th>count</th>\n",
       "      <td>100000.000000</td>\n",
       "      <td>100000.000000</td>\n",
       "      <td>100000.000000</td>\n",
       "      <td>100000.000000</td>\n",
       "    </tr>\n",
       "    <tr>\n",
       "      <th>mean</th>\n",
       "      <td>1.141296</td>\n",
       "      <td>-4.796579</td>\n",
       "      <td>2.494541</td>\n",
       "      <td>68.825000</td>\n",
       "    </tr>\n",
       "    <tr>\n",
       "      <th>std</th>\n",
       "      <td>8.965932</td>\n",
       "      <td>5.119872</td>\n",
       "      <td>1.703572</td>\n",
       "      <td>45.944423</td>\n",
       "    </tr>\n",
       "    <tr>\n",
       "      <th>min</th>\n",
       "      <td>-31.609576</td>\n",
       "      <td>-26.358598</td>\n",
       "      <td>-0.018144</td>\n",
       "      <td>0.000000</td>\n",
       "    </tr>\n",
       "    <tr>\n",
       "      <th>25%</th>\n",
       "      <td>-6.298551</td>\n",
       "      <td>-8.267985</td>\n",
       "      <td>1.000021</td>\n",
       "      <td>26.953261</td>\n",
       "    </tr>\n",
       "    <tr>\n",
       "      <th>50%</th>\n",
       "      <td>1.153055</td>\n",
       "      <td>-4.813172</td>\n",
       "      <td>2.011479</td>\n",
       "      <td>57.085625</td>\n",
       "    </tr>\n",
       "    <tr>\n",
       "      <th>75%</th>\n",
       "      <td>8.621015</td>\n",
       "      <td>-1.332816</td>\n",
       "      <td>3.999904</td>\n",
       "      <td>107.813044</td>\n",
       "    </tr>\n",
       "    <tr>\n",
       "      <th>max</th>\n",
       "      <td>29.421755</td>\n",
       "      <td>18.734063</td>\n",
       "      <td>5.019721</td>\n",
       "      <td>137.945408</td>\n",
       "    </tr>\n",
       "  </tbody>\n",
       "</table>\n",
       "</div>"
      ],
      "text/plain": [
       "                  f0             f1             f2        product\n",
       "count  100000.000000  100000.000000  100000.000000  100000.000000\n",
       "mean        1.141296      -4.796579       2.494541      68.825000\n",
       "std         8.965932       5.119872       1.703572      45.944423\n",
       "min       -31.609576     -26.358598      -0.018144       0.000000\n",
       "25%        -6.298551      -8.267985       1.000021      26.953261\n",
       "50%         1.153055      -4.813172       2.011479      57.085625\n",
       "75%         8.621015      -1.332816       3.999904     107.813044\n",
       "max        29.421755      18.734063       5.019721     137.945408"
      ]
     },
     "execution_count": 15,
     "metadata": {},
     "output_type": "execute_result"
    }
   ],
   "source": [
    "geo_2.describe()"
   ]
  },
  {
   "cell_type": "markdown",
   "metadata": {},
   "source": [
    "- Первый признак: среднее значение и медиана - 1.1\n",
    "- Второй признак: среднее значение и медиана - -4.8\n",
    "- Третий признак: среднее значение - 2.5, медиана - 2.0\n",
    "- Объем запасов: среднее значение - 68.8, медиана - 57.1"
   ]
  },
  {
   "cell_type": "code",
   "execution_count": 16,
   "metadata": {
    "scrolled": true
   },
   "outputs": [
    {
     "data": {
      "text/html": [
       "<div>\n",
       "<style scoped>\n",
       "    .dataframe tbody tr th:only-of-type {\n",
       "        vertical-align: middle;\n",
       "    }\n",
       "\n",
       "    .dataframe tbody tr th {\n",
       "        vertical-align: top;\n",
       "    }\n",
       "\n",
       "    .dataframe thead th {\n",
       "        text-align: right;\n",
       "    }\n",
       "</style>\n",
       "<table border=\"1\" class=\"dataframe\">\n",
       "  <thead>\n",
       "    <tr style=\"text-align: right;\">\n",
       "      <th></th>\n",
       "      <th>f0</th>\n",
       "      <th>f1</th>\n",
       "      <th>f2</th>\n",
       "      <th>product</th>\n",
       "    </tr>\n",
       "  </thead>\n",
       "  <tbody>\n",
       "    <tr>\n",
       "      <th>count</th>\n",
       "      <td>100000.000000</td>\n",
       "      <td>100000.000000</td>\n",
       "      <td>100000.000000</td>\n",
       "      <td>100000.000000</td>\n",
       "    </tr>\n",
       "    <tr>\n",
       "      <th>mean</th>\n",
       "      <td>0.002023</td>\n",
       "      <td>-0.002081</td>\n",
       "      <td>2.495128</td>\n",
       "      <td>95.000000</td>\n",
       "    </tr>\n",
       "    <tr>\n",
       "      <th>std</th>\n",
       "      <td>1.732045</td>\n",
       "      <td>1.730417</td>\n",
       "      <td>3.473445</td>\n",
       "      <td>44.749921</td>\n",
       "    </tr>\n",
       "    <tr>\n",
       "      <th>min</th>\n",
       "      <td>-8.760004</td>\n",
       "      <td>-7.084020</td>\n",
       "      <td>-11.970335</td>\n",
       "      <td>0.000000</td>\n",
       "    </tr>\n",
       "    <tr>\n",
       "      <th>25%</th>\n",
       "      <td>-1.162288</td>\n",
       "      <td>-1.174820</td>\n",
       "      <td>0.130359</td>\n",
       "      <td>59.450441</td>\n",
       "    </tr>\n",
       "    <tr>\n",
       "      <th>50%</th>\n",
       "      <td>0.009424</td>\n",
       "      <td>-0.009482</td>\n",
       "      <td>2.484236</td>\n",
       "      <td>94.925613</td>\n",
       "    </tr>\n",
       "    <tr>\n",
       "      <th>75%</th>\n",
       "      <td>1.158535</td>\n",
       "      <td>1.163678</td>\n",
       "      <td>4.858794</td>\n",
       "      <td>130.595027</td>\n",
       "    </tr>\n",
       "    <tr>\n",
       "      <th>max</th>\n",
       "      <td>7.238262</td>\n",
       "      <td>7.844801</td>\n",
       "      <td>16.739402</td>\n",
       "      <td>190.029838</td>\n",
       "    </tr>\n",
       "  </tbody>\n",
       "</table>\n",
       "</div>"
      ],
      "text/plain": [
       "                  f0             f1             f2        product\n",
       "count  100000.000000  100000.000000  100000.000000  100000.000000\n",
       "mean        0.002023      -0.002081       2.495128      95.000000\n",
       "std         1.732045       1.730417       3.473445      44.749921\n",
       "min        -8.760004      -7.084020     -11.970335       0.000000\n",
       "25%        -1.162288      -1.174820       0.130359      59.450441\n",
       "50%         0.009424      -0.009482       2.484236      94.925613\n",
       "75%         1.158535       1.163678       4.858794     130.595027\n",
       "max         7.238262       7.844801      16.739402     190.029838"
      ]
     },
     "execution_count": 16,
     "metadata": {},
     "output_type": "execute_result"
    }
   ],
   "source": [
    "geo_3.describe()"
   ]
  },
  {
   "cell_type": "markdown",
   "metadata": {},
   "source": [
    "- Первый признак: среднее значение и медиана - 0\n",
    "- Второй признак: среднее значение и медиана - 0\n",
    "- Третий признак: среднее значение - 2.50, медиана - 2.48\n",
    "- Объем запасов: среднее значение - 95.0, медиана - 94.9"
   ]
  },
  {
   "cell_type": "code",
   "execution_count": 17,
   "metadata": {},
   "outputs": [
    {
     "name": "stdout",
     "output_type": "stream",
     "text": [
      "Общие запасы нефти в первом регионе: 9250000\n",
      "Общие запасы нефти во втором регионе: 6882500\n",
      "Общие запасы нефти в третьем регионе: 9500000\n"
     ]
    }
   ],
   "source": [
    "#Найдем общую сумму запасов в каждом регионе\n",
    "print(f'Общие запасы нефти в первом регионе: {geo_1[\"product\"].sum():.0f}')\n",
    "print(f'Общие запасы нефти во втором регионе: {geo_2[\"product\"].sum():.0f}')\n",
    "print(f'Общие запасы нефти в третьем регионе: {geo_3[\"product\"].sum():.0f}')"
   ]
  },
  {
   "cell_type": "markdown",
   "metadata": {},
   "source": [
    "Больше всего запасов в третьем регионе - 9500000 тыс. баррелей, меньше всего во втором - 6882500 тыс.баррелей."
   ]
  },
  {
   "cell_type": "code",
   "execution_count": 18,
   "metadata": {},
   "outputs": [],
   "source": [
    "cols = ['f0', 'f1', 'f2']"
   ]
  },
  {
   "cell_type": "code",
   "execution_count": 19,
   "metadata": {},
   "outputs": [],
   "source": [
    "#создадим функцию которая строит распределеиня признаков для каждого региона\n",
    "def distribution_plot(data, cols):\n",
    "    for col in cols:\n",
    "        fig, ax = plt.subplots(nrows=1, ncols=2, figsize=(14,7))\n",
    "        sns.histplot(data=data, x=col, ax=ax[0])\n",
    "        ax[0].set_title(f'Расспределение значений столбца \"{col}\"')\n",
    "        ax[0].set_xlabel(col)\n",
    "        ax[0].set_ylabel('Количество значений')\n",
    "        ax[0].grid(True)\n",
    "    \n",
    "        sns.boxplot(data=data, x=col, ax=ax[1])\n",
    "        ax[1].set_title(f'Диаграмма размаха столбца \"{col}\"')\n",
    "        ax[1].set_xlabel(col)"
   ]
  },
  {
   "cell_type": "code",
   "execution_count": 20,
   "metadata": {
    "scrolled": true
   },
   "outputs": [
    {
     "data": {
      "image/png": "[encoded data removed]",
      "text/plain": [
       "<Figure size 1008x504 with 2 Axes>"
      ]
     },
     "metadata": {
      "needs_background": "light"
     },
     "output_type": "display_data"
    },
    {
     "data": {
      "image/png": "[encoded data removed]",
      "text/plain": [
       "<Figure size 1008x504 with 2 Axes>"
      ]
     },
     "metadata": {
      "needs_background": "light"
     },
     "output_type": "display_data"
    },
    {
     "data": {
      "image/png": "[encoded data removed]",
      "text/plain": [
       "<Figure size 1008x504 with 2 Axes>"
      ]
     },
     "metadata": {
      "needs_background": "light"
     },
     "output_type": "display_data"
    }
   ],
   "source": [
    "#распределение признаков для geo_1\n",
    "distribution_plot(geo_1, cols)"
   ]
  },
  {
   "cell_type": "code",
   "execution_count": 21,
   "metadata": {
    "scrolled": true
   },
   "outputs": [
    {
     "data": {
      "image/png": "[encoded data removed]",
      "text/plain": [
       "<Figure size 1008x504 with 2 Axes>"
      ]
     },
     "metadata": {
      "needs_background": "light"
     },
     "output_type": "display_data"
    },
    {
     "data": {
      "image/png": "[encoded data removed]",
      "text/plain": [
       "<Figure size 1008x504 with 2 Axes>"
      ]
     },
     "metadata": {
      "needs_background": "light"
     },
     "output_type": "display_data"
    },
    {
     "data": {
      "image/png": "[encoded data removed]",
      "text/plain": [
       "<Figure size 1008x504 with 2 Axes>"
      ]
     },
     "metadata": {
      "needs_background": "light"
     },
     "output_type": "display_data"
    }
   ],
   "source": [
    "#распределение признаков для geo_2\n",
    "distribution_plot(geo_2, cols)"
   ]
  },
  {
   "cell_type": "code",
   "execution_count": 22,
   "metadata": {},
   "outputs": [
    {
     "data": {
      "image/png": "[encoded data removed]",
      "text/plain": [
       "<Figure size 1008x504 with 2 Axes>"
      ]
     },
     "metadata": {
      "needs_background": "light"
     },
     "output_type": "display_data"
    },
    {
     "data": {
      "image/png": "[encoded data removed]",
      "text/plain": [
       "<Figure size 1008x504 with 2 Axes>"
      ]
     },
     "metadata": {
      "needs_background": "light"
     },
     "output_type": "display_data"
    },
    {
     "data": {
      "image/png": "[encoded data removed]",
      "text/plain": [
       "<Figure size 1008x504 with 2 Axes>"
      ]
     },
     "metadata": {
      "needs_background": "light"
     },
     "output_type": "display_data"
    }
   ],
   "source": [
    "#распределение признаков для geo_3\n",
    "distribution_plot(geo_3, cols)"
   ]
  },
  {
   "cell_type": "code",
   "execution_count": 23,
   "metadata": {},
   "outputs": [
    {
     "data": {
      "image/png": "[encoded data removed]",
      "text/plain": [
       "<Figure size 720x504 with 3 Axes>"
      ]
     },
     "metadata": {
      "needs_background": "light"
     },
     "output_type": "display_data"
    }
   ],
   "source": [
    "#Построим распределение таргета для каждого региона\n",
    "fig, axes = plt.subplots(3,1, sharex=True, figsize=(10,7))\n",
    "sns.boxplot(geo_1['product'], ax=axes[0])\n",
    "sns.boxplot(geo_2['product'], ax=axes[1])\n",
    "sns.boxplot(geo_3['product'], ax=axes[2])\n",
    "axes[0].set_xlabel('Регион 1')\n",
    "axes[1].set_xlabel('Регион 2')\n",
    "axes[2].set_xlabel('Регион 3')\n",
    "\n",
    "fig.suptitle('Распределение запасов нефти в месторождениях по регионам')\n",
    "plt.show()"
   ]
  },
  {
   "cell_type": "markdown",
   "metadata": {},
   "source": [
    "Данные подготовлены к дальнейшей работе: дубликатов и пропусков нет. Был проведен исследовательский анализ данных и построены графики распределений признаков. Большей всего запасов нефти в 1 и 3 регионах."
   ]
  },
  {
   "cell_type": "markdown",
   "metadata": {},
   "source": [
    "Проведем дополнительный анализ, чтобы объяснить распределение признака f2."
   ]
  },
  {
   "cell_type": "code",
   "execution_count": 42,
   "metadata": {},
   "outputs": [
    {
     "data": {
      "text/plain": [
       "Text(0.5, 1.0, 'График зависимости таргера от \"f2\"')"
      ]
     },
     "execution_count": 42,
     "metadata": {},
     "output_type": "execute_result"
    },
    {
     "data": {
      "image/png": "[encoded data removed]",
      "text/plain": [
       "<Figure size 576x360 with 1 Axes>"
      ]
     },
     "metadata": {
      "needs_background": "light"
     },
     "output_type": "display_data"
    }
   ],
   "source": [
    "fig, ax = plt.subplots(figsize=(8,5))\n",
    "sns.lineplot(x='f2', y='product', data=geo_2)\n",
    "ax.grid(True)\n",
    "ax.set_title(f'График зависимости таргера от \"f2\"')"
   ]
  },
  {
   "cell_type": "code",
   "execution_count": 25,
   "metadata": {},
   "outputs": [
    {
     "name": "stdout",
     "output_type": "stream",
     "text": [
      "Коэффициент корреляции Пирсона: 0.9993969704906553\n"
     ]
    }
   ],
   "source": [
    "print(f'Коэффициент корреляции Пирсона: {geo_2[\"product\"].corr(geo_2[\"f2\"], method=\"pearson\")}')"
   ]
  },
  {
   "cell_type": "markdown",
   "metadata": {},
   "source": [
    "Выявлена высокая корреляция между целевым признаком и признаков f2."
   ]
  },
  {
   "cell_type": "markdown",
   "metadata": {},
   "source": [
    "## Обучение и проверка модели"
   ]
  },
  {
   "cell_type": "code",
   "execution_count": 26,
   "metadata": {},
   "outputs": [],
   "source": [
    "# список предсказаний по объёму сырья в скважине на валидационной выборке\n",
    "pred_valid = []\n",
    "\n",
    "# список правильных ответов на валидационной выборке\n",
    "valid_target = []"
   ]
  },
  {
   "cell_type": "code",
   "execution_count": 27,
   "metadata": {},
   "outputs": [],
   "source": [
    "#создадим функцию которая будет разбивать наши данные на обучающую и валидационную выборки в соотношении 75:25 и обучать модель\n",
    "def model_fitting(data):\n",
    "    features = data.drop(['id', 'product'], axis=1)\n",
    "    target = data['product']\n",
    "    X_train, X_valid, y_train, y_valid = train_test_split(\n",
    "        features,\n",
    "        target,\n",
    "        test_size=TEST_SIZE,\n",
    "        random_state = RANDOM_STATE,\n",
    "    )\n",
    "    \n",
    "    model = LinearRegression()\n",
    "    model.fit(X_train, y_train)\n",
    "    pred = model.predict(X_valid)\n",
    "\n",
    "    mean_stock = pred.mean()\n",
    "    rmse = (mean_squared_error(y_valid, pred))**0.5\n",
    "    \n",
    "    pred_valid.append(pred)\n",
    "    valid_target.append(y_valid.reset_index(drop=True))\n",
    "    \n",
    "    #return mean_stock, rmse\n",
    "    print(f'Средний запас предсказанного сырья: {mean_stock:.2f}')\n",
    "    print(f'RMSE модели: {rmse:.2f}')\n",
    "    "
   ]
  },
  {
   "cell_type": "code",
   "execution_count": 28,
   "metadata": {},
   "outputs": [
    {
     "name": "stdout",
     "output_type": "stream",
     "text": [
      "Средний запас предсказанного сырья: 92.40\n",
      "RMSE модели: 37.76\n"
     ]
    }
   ],
   "source": [
    "#модель для первого региона\n",
    "model_fitting(geo_1)"
   ]
  },
  {
   "cell_type": "code",
   "execution_count": 29,
   "metadata": {},
   "outputs": [
    {
     "name": "stdout",
     "output_type": "stream",
     "text": [
      "Средний запас предсказанного сырья: 68.71\n",
      "RMSE модели: 0.89\n"
     ]
    }
   ],
   "source": [
    "#модель для второго региона\n",
    "model_fitting(geo_2)"
   ]
  },
  {
   "cell_type": "code",
   "execution_count": 30,
   "metadata": {},
   "outputs": [
    {
     "name": "stdout",
     "output_type": "stream",
     "text": [
      "Средний запас предсказанного сырья: 94.77\n",
      "RMSE модели: 40.15\n"
     ]
    }
   ],
   "source": [
    "#модель для третьего региона\n",
    "model_fitting(geo_3)"
   ]
  },
  {
   "cell_type": "code",
   "execution_count": 31,
   "metadata": {},
   "outputs": [
    {
     "data": {
      "text/plain": [
       "(25000,)"
      ]
     },
     "execution_count": 31,
     "metadata": {},
     "output_type": "execute_result"
    }
   ],
   "source": [
    "pred_valid[0].shape"
   ]
  },
  {
   "cell_type": "markdown",
   "metadata": {},
   "source": [
    "Регионы с самыми большими запасами также остались 1 и 3, однако у них достаточно большие ошибки. Во втором регионе запасов значительно меньше, но и среднеквадратичная ошибка меньше."
   ]
  },
  {
   "cell_type": "markdown",
   "metadata": {},
   "source": [
    "## Подготовка к расчёту прибыли"
   ]
  },
  {
   "cell_type": "code",
   "execution_count": 32,
   "metadata": {},
   "outputs": [],
   "source": [
    "BUDGET = 10000000000\n",
    "PRICE_PER_PRODUCT = 450000\n",
    "NUM_SITES = 500\n",
    "BEST_SITES = 200"
   ]
  },
  {
   "cell_type": "code",
   "execution_count": 33,
   "metadata": {},
   "outputs": [
    {
     "name": "stdout",
     "output_type": "stream",
     "text": [
      "Достаточный средний объем сырья для одной новой скажины: 111.11 тыс. баррель\n"
     ]
    }
   ],
   "source": [
    "#рассчитаем достаточный объём сырья для безубыточной разработки новой скважины\n",
    "mean_volume = BUDGET / BEST_SITES / PRICE_PER_PRODUCT\n",
    "print(f'Достаточный средний объем сырья для одной новой скажины: {mean_volume:.2f} тыс. баррель')"
   ]
  },
  {
   "cell_type": "markdown",
   "metadata": {},
   "source": [
    "Достаточный средний объем сырья для одной новой скажины: 111.11 тыс. баррель. Ни в одном регионе нет такого среднего показателя, но в предыдущем учитывались все месторождения, а заказчик просит найти только 200 лучших."
   ]
  },
  {
   "cell_type": "markdown",
   "metadata": {},
   "source": [
    "## Расчёт прибыли и рисков "
   ]
  },
  {
   "cell_type": "code",
   "execution_count": 34,
   "metadata": {},
   "outputs": [],
   "source": [
    "#создадим функцию для расчёта прибыли по выбранным скважинам и предсказаниям модели\n",
    "def profit(y, pred):\n",
    "    pred_sorted = pred.sort_values(ascending=False)\n",
    "    best_spots = y[pred_sorted.index][:BEST_SITES]\n",
    "    return round(best_spots.sum() * PRICE_PER_PRODUCT - BUDGET)"
   ]
  },
  {
   "cell_type": "code",
   "execution_count": 35,
   "metadata": {},
   "outputs": [
    {
     "name": "stdout",
     "output_type": "stream",
     "text": [
      "Прибыль первого региона: 3359141114\n"
     ]
    }
   ],
   "source": [
    "#прибыль для первого реигона\n",
    "print(f'Прибыль первого региона: {profit(valid_target[0], pd.Series(pred_valid[0]))}')"
   ]
  },
  {
   "cell_type": "code",
   "execution_count": 36,
   "metadata": {},
   "outputs": [
    {
     "name": "stdout",
     "output_type": "stream",
     "text": [
      "Прибыль второго региона: 2415086697\n"
     ]
    }
   ],
   "source": [
    "#прибыль для второго реигона\n",
    "print(f'Прибыль второго региона: {profit(valid_target[1], pd.Series(pred_valid[1]))}')"
   ]
  },
  {
   "cell_type": "code",
   "execution_count": 37,
   "metadata": {
    "scrolled": true
   },
   "outputs": [
    {
     "name": "stdout",
     "output_type": "stream",
     "text": [
      "Прибыль второго региона: 2598571759\n"
     ]
    }
   ],
   "source": [
    "#прибыль для третьего реигона\n",
    "print(f'Прибыль второго региона: {profit(valid_target[2], pd.Series(pred_valid[2]))}')"
   ]
  },
  {
   "cell_type": "markdown",
   "metadata": {},
   "source": [
    "Все три региона потенциально прибыльные, но для нахождения наиболее выгодного просчитаем риски каждого региона."
   ]
  },
  {
   "cell_type": "code",
   "execution_count": 38,
   "metadata": {},
   "outputs": [],
   "source": [
    "state = RandomState(12345)\n",
    "def bootstrap(target, prob, region):\n",
    "    values = []\n",
    "    for i in range(1000):\n",
    "        target_subsample = target.sample(n=500, replace=True, random_state=state)\n",
    "        prob_subsample = prob[target_subsample.index]\n",
    "        target_subsample = target_subsample.reset_index(drop=True)\n",
    "        prob_subsample = pd.Series(prob_subsample)\n",
    "        prob_subsample = prob_subsample.reset_index(drop=True)\n",
    "        \n",
    "        values.append(profit(target_subsample, prob_subsample))\n",
    "    \n",
    "    values = pd.Series(values)\n",
    "    mean_profit = values.mean()\n",
    "    interval = (round(values.quantile(0.025)), round(values.quantile(0.975)))\n",
    "    risk = (values < 0).mean()\n",
    "    \n",
    "    print(f'Средняя прибыль для {region} региона: {mean_profit:.0f}') \n",
    "    print(f'95%-й доверительный интервал для {region} региона: {interval}')\n",
    "    print(f'Риск убытков для {region} региона: {risk:.2%}')\n",
    "    print('\\n')"
   ]
  },
  {
   "cell_type": "code",
   "execution_count": 39,
   "metadata": {
    "scrolled": true
   },
   "outputs": [
    {
     "name": "stdout",
     "output_type": "stream",
     "text": [
      "Средняя прибыль для 1 региона: 406278783\n",
      "95%-й доверительный интервал для 1 региона: (-117742136, 911737051)\n",
      "Риск убытков для 1 региона: 6.70%\n",
      "\n",
      "\n",
      "Средняя прибыль для 2 региона: 441504278\n",
      "95%-й доверительный интервал для 2 региона: (35728489, 828006639)\n",
      "Риск убытков для 2 региона: 1.60%\n",
      "\n",
      "\n",
      "Средняя прибыль для 3 региона: 385213196\n",
      "95%-й доверительный интервал для 3 региона: (-164785166, 888206235)\n",
      "Риск убытков для 3 региона: 7.80%\n",
      "\n",
      "\n"
     ]
    }
   ],
   "source": [
    "bootstrap(valid_target[0], pd.Series(pred_valid[0]), 1)\n",
    "bootstrap(valid_target[1], pd.Series(pred_valid[1]), 2)\n",
    "bootstrap(valid_target[2], pd.Series(pred_valid[2]), 3)"
   ]
  },
  {
   "cell_type": "markdown",
   "metadata": {},
   "source": [
    "Средняя прибыль и риски наилучшие у второго региона: средняя прибыль - 439 млн., а риск убытков менее 2%. У первого и третьего регионов прибыль примерно одинакова - 380 млн., а риск убытков у первого - 6%, у второго - 8%. Для второго региона доверительный интервал не содержит отрицательных значений. Для разработки скважин рекомендуется 2 регион."
   ]
  },
  {
   "cell_type": "markdown",
   "metadata": {},
   "source": [
    "## Заключение \n",
    "В ходе проектной работы была разработана модель для определения региона, где добыча принесёт наибольшую прибыль.\n",
    "\n",
    "В первом шаге проводилась загрузка и подготовка данных: в этом этапе были считаны csv-файлы с данными, при помощи библиотеки pandas они были сохранены в датафреймы. Далее были выведены первые строки наборов данных, была изучена общая информация о датафреймах. Была проведена предобработка данных и исследовательский анализ данных.\n",
    "\n",
    "Во втором шаге обучались линейные модели для каждого региона: были вычеслены  средние запасы предсказанного сырья и RMSE каждой модели. Больше всего запасов в 1 и 3 регионах, однако среднеквадратичная ошибка для второго региона намного меньше.\n",
    "\n",
    "В тетьем шаге была проведена подготовка к расчету прибыли: все ключевые значения для расчётов сохранены в отдельных переменных, был рассчитан достаточный объём сырья для безубыточной разработки новой скважины - 111,11 тыс баррель. Ни один регион не обладает достаточными средними запасами для безубыточной разработки любой новой скважины.\n",
    "\n",
    "В четвертом шаге проводился расчет прибыли и рисков для кажого региона: была применена техника Bootstrap с разделением каждого предсказанного значения прибыли по регионам на 1000 выборок, средняя прибыль максимальна для 2 регина - 439 млн. минимальный риск также соответсвует 2 региону - 1.6%. Другие регионы проигрывают по обоим показателям. Доверительный интревал у второго региона не имеет отрицательных значений.\n",
    "\n",
    "В совокупности всех факторов для разработки рекомендуется 2 регион."
   ]
  },
  {
   "cell_type": "code",
   "execution_count": null,
   "metadata": {},
   "outputs": [],
   "source": []
  }
 ],
 "metadata": {
  "ExecuteTimeLog": [
   {
    "duration": 1310,
    "start_time": "2024-07-15T13:38:48.164Z"
   },
   {
    "duration": 3,
    "start_time": "2024-07-15T13:38:59.181Z"
   },
   {
    "duration": 1013,
    "start_time": "2024-07-15T13:39:55.931Z"
   },
   {
    "duration": 245,
    "start_time": "2024-07-15T13:41:14.176Z"
   },
   {
    "duration": 1732,
    "start_time": "2024-07-16T00:50:56.788Z"
   },
   {
    "duration": 3,
    "start_time": "2024-07-16T00:50:58.522Z"
   },
   {
    "duration": 964,
    "start_time": "2024-07-16T00:50:58.527Z"
   },
   {
    "duration": 434,
    "start_time": "2024-07-16T00:52:18.318Z"
   },
   {
    "duration": 24,
    "start_time": "2024-07-16T00:52:42.847Z"
   },
   {
    "duration": 16,
    "start_time": "2024-07-16T00:53:10.477Z"
   },
   {
    "duration": 16,
    "start_time": "2024-07-16T00:53:55.537Z"
   },
   {
    "duration": 13,
    "start_time": "2024-07-16T00:54:16.768Z"
   },
   {
    "duration": 10,
    "start_time": "2024-07-16T00:54:37.337Z"
   },
   {
    "duration": 9,
    "start_time": "2024-07-16T00:54:53.416Z"
   },
   {
    "duration": 113,
    "start_time": "2024-07-16T00:57:47.706Z"
   },
   {
    "duration": 11,
    "start_time": "2024-07-16T00:57:54.205Z"
   },
   {
    "duration": 9,
    "start_time": "2024-07-16T00:59:48.996Z"
   },
   {
    "duration": 10,
    "start_time": "2024-07-16T01:00:32.386Z"
   },
   {
    "duration": 62,
    "start_time": "2024-07-16T01:00:55.865Z"
   },
   {
    "duration": 4,
    "start_time": "2024-07-16T01:01:24.927Z"
   },
   {
    "duration": 281,
    "start_time": "2024-07-16T01:01:30.335Z"
   },
   {
    "duration": 24,
    "start_time": "2024-07-16T01:01:37.424Z"
   },
   {
    "duration": 24,
    "start_time": "2024-07-16T01:01:47.684Z"
   },
   {
    "duration": 24,
    "start_time": "2024-07-16T01:05:00.024Z"
   },
   {
    "duration": 23,
    "start_time": "2024-07-16T01:06:21.263Z"
   },
   {
    "duration": 146,
    "start_time": "2024-07-16T01:06:25.109Z"
   },
   {
    "duration": 139,
    "start_time": "2024-07-16T01:06:48.449Z"
   },
   {
    "duration": 17,
    "start_time": "2024-07-16T01:08:34.919Z"
   },
   {
    "duration": 960,
    "start_time": "2024-07-16T01:08:40.092Z"
   },
   {
    "duration": 24,
    "start_time": "2024-07-16T01:08:49.809Z"
   },
   {
    "duration": 69,
    "start_time": "2024-07-16T01:10:32.711Z"
   },
   {
    "duration": 20,
    "start_time": "2024-07-16T01:10:37.240Z"
   },
   {
    "duration": 160,
    "start_time": "2024-07-16T01:10:44.251Z"
   },
   {
    "duration": 23,
    "start_time": "2024-07-16T01:10:55.341Z"
   },
   {
    "duration": 155,
    "start_time": "2024-07-16T01:17:34.844Z"
   },
   {
    "duration": 107,
    "start_time": "2024-07-16T01:17:42.645Z"
   },
   {
    "duration": 97,
    "start_time": "2024-07-16T01:18:32.399Z"
   },
   {
    "duration": 8,
    "start_time": "2024-07-16T01:18:37.969Z"
   },
   {
    "duration": 49,
    "start_time": "2024-07-16T01:18:50.419Z"
   },
   {
    "duration": 25,
    "start_time": "2024-07-16T01:19:02.511Z"
   },
   {
    "duration": 82,
    "start_time": "2024-07-16T01:19:28.793Z"
   },
   {
    "duration": 39,
    "start_time": "2024-07-16T01:24:18.316Z"
   },
   {
    "duration": 42,
    "start_time": "2024-07-16T01:54:29.361Z"
   },
   {
    "duration": 37,
    "start_time": "2024-07-16T01:56:58.532Z"
   },
   {
    "duration": 3,
    "start_time": "2024-07-16T02:00:12.666Z"
   },
   {
    "duration": 69,
    "start_time": "2024-07-16T02:02:04.386Z"
   },
   {
    "duration": 71,
    "start_time": "2024-07-16T02:02:10.770Z"
   },
   {
    "duration": 68,
    "start_time": "2024-07-16T02:02:14.703Z"
   },
   {
    "duration": 1007,
    "start_time": "2024-07-16T02:02:34.981Z"
   },
   {
    "duration": 67,
    "start_time": "2024-07-16T02:02:55.434Z"
   },
   {
    "duration": 100,
    "start_time": "2024-07-16T02:03:39.809Z"
   },
   {
    "duration": 101,
    "start_time": "2024-07-16T02:03:45.409Z"
   },
   {
    "duration": 73,
    "start_time": "2024-07-16T02:03:48.844Z"
   },
   {
    "duration": 83,
    "start_time": "2024-07-16T02:04:04.300Z"
   },
   {
    "duration": 1536,
    "start_time": "2024-07-16T02:04:15.679Z"
   },
   {
    "duration": 3,
    "start_time": "2024-07-16T02:04:17.217Z"
   },
   {
    "duration": 433,
    "start_time": "2024-07-16T02:04:17.221Z"
   },
   {
    "duration": 15,
    "start_time": "2024-07-16T02:04:17.656Z"
   },
   {
    "duration": 18,
    "start_time": "2024-07-16T02:04:17.673Z"
   },
   {
    "duration": 21,
    "start_time": "2024-07-16T02:04:17.692Z"
   },
   {
    "duration": 18,
    "start_time": "2024-07-16T02:04:17.714Z"
   },
   {
    "duration": 24,
    "start_time": "2024-07-16T02:04:17.734Z"
   },
   {
    "duration": 10,
    "start_time": "2024-07-16T02:04:17.759Z"
   },
   {
    "duration": 34,
    "start_time": "2024-07-16T02:04:17.771Z"
   },
   {
    "duration": 141,
    "start_time": "2024-07-16T02:04:17.807Z"
   },
   {
    "duration": 78,
    "start_time": "2024-07-16T02:04:17.950Z"
   },
   {
    "duration": 53,
    "start_time": "2024-07-16T02:04:18.030Z"
   },
   {
    "duration": 40,
    "start_time": "2024-07-16T02:04:18.086Z"
   },
   {
    "duration": 57,
    "start_time": "2024-07-16T02:04:18.127Z"
   },
   {
    "duration": 70,
    "start_time": "2024-07-16T02:04:18.186Z"
   },
   {
    "duration": 4,
    "start_time": "2024-07-16T02:04:47.509Z"
   },
   {
    "duration": 4,
    "start_time": "2024-07-16T02:07:02.849Z"
   },
   {
    "duration": 5,
    "start_time": "2024-07-16T02:07:10.168Z"
   },
   {
    "duration": 4,
    "start_time": "2024-07-16T02:07:16.927Z"
   },
   {
    "duration": 6,
    "start_time": "2024-07-16T02:07:58.104Z"
   },
   {
    "duration": 1790,
    "start_time": "2024-07-16T04:43:13.960Z"
   },
   {
    "duration": 3,
    "start_time": "2024-07-16T04:43:15.752Z"
   },
   {
    "duration": 1007,
    "start_time": "2024-07-16T04:43:15.764Z"
   },
   {
    "duration": 18,
    "start_time": "2024-07-16T04:43:16.775Z"
   },
   {
    "duration": 15,
    "start_time": "2024-07-16T04:43:16.795Z"
   },
   {
    "duration": 16,
    "start_time": "2024-07-16T04:43:16.811Z"
   },
   {
    "duration": 23,
    "start_time": "2024-07-16T04:43:16.828Z"
   },
   {
    "duration": 16,
    "start_time": "2024-07-16T04:43:16.865Z"
   },
   {
    "duration": 9,
    "start_time": "2024-07-16T04:43:16.882Z"
   },
   {
    "duration": 28,
    "start_time": "2024-07-16T04:43:16.893Z"
   },
   {
    "duration": 154,
    "start_time": "2024-07-16T04:43:16.923Z"
   },
   {
    "duration": 60,
    "start_time": "2024-07-16T04:43:17.082Z"
   },
   {
    "duration": 56,
    "start_time": "2024-07-16T04:43:17.144Z"
   },
   {
    "duration": 39,
    "start_time": "2024-07-16T04:43:17.201Z"
   },
   {
    "duration": 65,
    "start_time": "2024-07-16T04:43:17.242Z"
   },
   {
    "duration": 6,
    "start_time": "2024-07-16T04:43:17.309Z"
   },
   {
    "duration": 1193,
    "start_time": "2024-07-16T04:46:43.537Z"
   },
   {
    "duration": 398,
    "start_time": "2024-07-16T04:49:21.031Z"
   },
   {
    "duration": 302,
    "start_time": "2024-07-16T04:49:33.111Z"
   },
   {
    "duration": 311,
    "start_time": "2024-07-16T04:49:40.663Z"
   },
   {
    "duration": 285,
    "start_time": "2024-07-16T04:50:06.083Z"
   },
   {
    "duration": 310,
    "start_time": "2024-07-16T04:50:23.832Z"
   },
   {
    "duration": 420,
    "start_time": "2024-07-16T04:50:54.568Z"
   },
   {
    "duration": 293,
    "start_time": "2024-07-16T04:51:04.648Z"
   },
   {
    "duration": 1486,
    "start_time": "2024-07-17T02:51:19.168Z"
   },
   {
    "duration": 2,
    "start_time": "2024-07-17T02:51:20.656Z"
   },
   {
    "duration": 955,
    "start_time": "2024-07-17T02:51:20.660Z"
   },
   {
    "duration": 15,
    "start_time": "2024-07-17T02:51:21.616Z"
   },
   {
    "duration": 27,
    "start_time": "2024-07-17T02:51:21.633Z"
   },
   {
    "duration": 15,
    "start_time": "2024-07-17T02:51:21.661Z"
   },
   {
    "duration": 12,
    "start_time": "2024-07-17T02:51:21.677Z"
   },
   {
    "duration": 15,
    "start_time": "2024-07-17T02:51:21.691Z"
   },
   {
    "duration": 9,
    "start_time": "2024-07-17T02:51:21.707Z"
   },
   {
    "duration": 33,
    "start_time": "2024-07-17T02:51:21.717Z"
   },
   {
    "duration": 120,
    "start_time": "2024-07-17T02:51:21.752Z"
   },
   {
    "duration": 64,
    "start_time": "2024-07-17T02:51:21.874Z"
   },
   {
    "duration": 37,
    "start_time": "2024-07-17T02:51:21.940Z"
   },
   {
    "duration": 33,
    "start_time": "2024-07-17T02:51:21.980Z"
   },
   {
    "duration": 54,
    "start_time": "2024-07-17T02:51:22.015Z"
   },
   {
    "duration": 5,
    "start_time": "2024-07-17T02:51:22.070Z"
   },
   {
    "duration": 1064,
    "start_time": "2024-07-17T02:51:22.076Z"
   },
   {
    "duration": 335,
    "start_time": "2024-07-17T02:51:23.141Z"
   },
   {
    "duration": 70,
    "start_time": "2024-07-17T02:56:08.832Z"
   },
   {
    "duration": 5,
    "start_time": "2024-07-17T02:56:16.741Z"
   },
   {
    "duration": 992,
    "start_time": "2024-07-17T02:56:41.645Z"
   },
   {
    "duration": 1084,
    "start_time": "2024-07-17T02:56:49.024Z"
   },
   {
    "duration": 4,
    "start_time": "2024-07-17T02:57:29.912Z"
   },
   {
    "duration": 3,
    "start_time": "2024-07-17T02:57:53.725Z"
   },
   {
    "duration": 1012,
    "start_time": "2024-07-17T02:57:59.125Z"
   },
   {
    "duration": 1116,
    "start_time": "2024-07-17T02:58:13.716Z"
   },
   {
    "duration": 1291,
    "start_time": "2024-07-17T02:58:21.140Z"
   },
   {
    "duration": 335,
    "start_time": "2024-07-17T03:01:07.516Z"
   },
   {
    "duration": 3,
    "start_time": "2024-07-17T03:09:14.060Z"
   },
   {
    "duration": 2,
    "start_time": "2024-07-17T03:16:57.752Z"
   },
   {
    "duration": 3,
    "start_time": "2024-07-17T03:18:50.872Z"
   },
   {
    "duration": 3,
    "start_time": "2024-07-17T03:19:07.259Z"
   },
   {
    "duration": 3,
    "start_time": "2024-07-17T03:25:13.081Z"
   },
   {
    "duration": 4,
    "start_time": "2024-07-17T03:29:35.104Z"
   },
   {
    "duration": 6,
    "start_time": "2024-07-17T03:35:44.590Z"
   },
   {
    "duration": 4,
    "start_time": "2024-07-17T03:36:48.721Z"
   },
   {
    "duration": 118,
    "start_time": "2024-07-17T03:37:15.407Z"
   },
   {
    "duration": 4,
    "start_time": "2024-07-17T03:37:35.597Z"
   },
   {
    "duration": 186,
    "start_time": "2024-07-17T03:37:37.153Z"
   },
   {
    "duration": 4,
    "start_time": "2024-07-17T03:38:36.070Z"
   },
   {
    "duration": 4,
    "start_time": "2024-07-17T03:39:16.002Z"
   },
   {
    "duration": 23,
    "start_time": "2024-07-17T03:39:17.194Z"
   },
   {
    "duration": 69,
    "start_time": "2024-07-17T03:39:28.635Z"
   },
   {
    "duration": 5,
    "start_time": "2024-07-17T03:40:11.250Z"
   },
   {
    "duration": 23,
    "start_time": "2024-07-17T03:40:13.599Z"
   },
   {
    "duration": 5,
    "start_time": "2024-07-17T03:40:28.263Z"
   },
   {
    "duration": 27,
    "start_time": "2024-07-17T03:40:40.486Z"
   },
   {
    "duration": 21,
    "start_time": "2024-07-17T03:41:15.754Z"
   },
   {
    "duration": 21,
    "start_time": "2024-07-17T03:41:39.273Z"
   },
   {
    "duration": 144,
    "start_time": "2024-07-17T03:41:39.297Z"
   },
   {
    "duration": 2,
    "start_time": "2024-07-17T04:01:28.628Z"
   },
   {
    "duration": 2,
    "start_time": "2024-07-17T04:05:36.800Z"
   },
   {
    "duration": 2,
    "start_time": "2024-07-17T04:07:13.332Z"
   },
   {
    "duration": 3,
    "start_time": "2024-07-17T04:07:33.201Z"
   },
   {
    "duration": 3,
    "start_time": "2024-07-17T04:07:54.552Z"
   },
   {
    "duration": 63,
    "start_time": "2024-07-17T04:08:50.237Z"
   },
   {
    "duration": 3,
    "start_time": "2024-07-17T04:08:54.517Z"
   },
   {
    "duration": 3,
    "start_time": "2024-07-17T04:09:13.327Z"
   },
   {
    "duration": 3,
    "start_time": "2024-07-17T04:10:27.110Z"
   },
   {
    "duration": 2,
    "start_time": "2024-07-17T04:10:29.735Z"
   },
   {
    "duration": 4,
    "start_time": "2024-07-17T04:10:30.213Z"
   },
   {
    "duration": 1453,
    "start_time": "2024-07-17T09:13:02.319Z"
   },
   {
    "duration": 3,
    "start_time": "2024-07-17T09:13:03.774Z"
   },
   {
    "duration": 57,
    "start_time": "2024-07-17T09:13:03.778Z"
   },
   {
    "duration": 418,
    "start_time": "2024-07-17T09:13:03.838Z"
   },
   {
    "duration": 15,
    "start_time": "2024-07-17T09:13:04.258Z"
   },
   {
    "duration": 16,
    "start_time": "2024-07-17T09:13:04.285Z"
   },
   {
    "duration": 18,
    "start_time": "2024-07-17T09:13:04.302Z"
   },
   {
    "duration": 48,
    "start_time": "2024-07-17T09:13:04.321Z"
   },
   {
    "duration": 10,
    "start_time": "2024-07-17T09:13:04.370Z"
   },
   {
    "duration": 20,
    "start_time": "2024-07-17T09:13:04.383Z"
   },
   {
    "duration": 24,
    "start_time": "2024-07-17T09:13:04.404Z"
   },
   {
    "duration": 138,
    "start_time": "2024-07-17T09:13:04.430Z"
   },
   {
    "duration": 70,
    "start_time": "2024-07-17T09:13:04.569Z"
   },
   {
    "duration": 61,
    "start_time": "2024-07-17T09:13:04.640Z"
   },
   {
    "duration": 38,
    "start_time": "2024-07-17T09:13:04.703Z"
   },
   {
    "duration": 61,
    "start_time": "2024-07-17T09:13:04.743Z"
   },
   {
    "duration": 6,
    "start_time": "2024-07-17T09:13:04.806Z"
   },
   {
    "duration": 4,
    "start_time": "2024-07-17T09:13:04.813Z"
   },
   {
    "duration": 14,
    "start_time": "2024-07-17T09:13:04.818Z"
   },
   {
    "duration": 1192,
    "start_time": "2024-07-17T09:13:04.834Z"
   },
   {
    "duration": 1086,
    "start_time": "2024-07-17T09:13:06.028Z"
   },
   {
    "duration": 1468,
    "start_time": "2024-07-17T09:13:07.116Z"
   },
   {
    "duration": 304,
    "start_time": "2024-07-17T09:13:08.586Z"
   },
   {
    "duration": 6,
    "start_time": "2024-07-17T09:13:08.891Z"
   },
   {
    "duration": 54,
    "start_time": "2024-07-17T09:13:08.898Z"
   },
   {
    "duration": 139,
    "start_time": "2024-07-17T09:13:08.954Z"
   },
   {
    "duration": 200,
    "start_time": "2024-07-17T09:13:09.095Z"
   },
   {
    "duration": 4,
    "start_time": "2024-07-17T09:13:09.297Z"
   },
   {
    "duration": 7,
    "start_time": "2024-07-17T09:13:09.386Z"
   },
   {
    "duration": 110,
    "start_time": "2024-07-17T09:14:59.636Z"
   },
   {
    "duration": 5,
    "start_time": "2024-07-17T09:17:50.650Z"
   },
   {
    "duration": 31,
    "start_time": "2024-07-17T09:17:51.853Z"
   },
   {
    "duration": 5,
    "start_time": "2024-07-17T09:18:15.753Z"
   },
   {
    "duration": 28,
    "start_time": "2024-07-17T09:18:16.809Z"
   },
   {
    "duration": 4,
    "start_time": "2024-07-17T09:19:21.731Z"
   },
   {
    "duration": 32,
    "start_time": "2024-07-17T09:20:01.192Z"
   },
   {
    "duration": 37,
    "start_time": "2024-07-17T09:20:15.848Z"
   },
   {
    "duration": 26,
    "start_time": "2024-07-17T09:20:23.894Z"
   },
   {
    "duration": 25,
    "start_time": "2024-07-17T09:20:48.252Z"
   },
   {
    "duration": 38,
    "start_time": "2024-07-17T09:21:06.598Z"
   },
   {
    "duration": 3,
    "start_time": "2024-07-17T09:24:21.836Z"
   },
   {
    "duration": 14,
    "start_time": "2024-07-17T09:25:17.115Z"
   },
   {
    "duration": 29,
    "start_time": "2024-07-17T09:25:44.048Z"
   },
   {
    "duration": 5,
    "start_time": "2024-07-17T09:27:12.716Z"
   },
   {
    "duration": 35,
    "start_time": "2024-07-17T09:27:13.961Z"
   },
   {
    "duration": 3,
    "start_time": "2024-07-17T09:28:19.365Z"
   },
   {
    "duration": 32,
    "start_time": "2024-07-17T09:28:19.969Z"
   },
   {
    "duration": 4,
    "start_time": "2024-07-17T09:28:23.312Z"
   },
   {
    "duration": 33,
    "start_time": "2024-07-17T09:28:23.924Z"
   },
   {
    "duration": 3,
    "start_time": "2024-07-17T09:28:39.210Z"
   },
   {
    "duration": 30,
    "start_time": "2024-07-17T09:28:39.812Z"
   },
   {
    "duration": 3,
    "start_time": "2024-07-17T09:28:47.846Z"
   },
   {
    "duration": 7,
    "start_time": "2024-07-17T09:28:48.386Z"
   },
   {
    "duration": 4,
    "start_time": "2024-07-17T09:29:13.144Z"
   },
   {
    "duration": 9,
    "start_time": "2024-07-17T09:29:16.484Z"
   },
   {
    "duration": 21,
    "start_time": "2024-07-17T09:29:20.722Z"
   },
   {
    "duration": 3,
    "start_time": "2024-07-17T09:29:38.467Z"
   },
   {
    "duration": 34,
    "start_time": "2024-07-17T09:29:41.134Z"
   },
   {
    "duration": 3,
    "start_time": "2024-07-17T09:29:59.945Z"
   },
   {
    "duration": 23,
    "start_time": "2024-07-17T09:30:00.332Z"
   },
   {
    "duration": 3,
    "start_time": "2024-07-17T09:30:11.207Z"
   },
   {
    "duration": 21,
    "start_time": "2024-07-17T09:30:11.665Z"
   },
   {
    "duration": 10,
    "start_time": "2024-07-17T09:38:01.533Z"
   },
   {
    "duration": 4,
    "start_time": "2024-07-17T09:38:04.010Z"
   },
   {
    "duration": 3,
    "start_time": "2024-07-17T09:38:04.540Z"
   },
   {
    "duration": 3,
    "start_time": "2024-07-17T09:38:07.732Z"
   },
   {
    "duration": 6,
    "start_time": "2024-07-17T09:45:49.846Z"
   },
   {
    "duration": 102,
    "start_time": "2024-07-17T09:45:51.191Z"
   },
   {
    "duration": 62,
    "start_time": "2024-07-17T09:46:02.128Z"
   },
   {
    "duration": 3,
    "start_time": "2024-07-17T09:46:16.595Z"
   },
   {
    "duration": 26,
    "start_time": "2024-07-17T09:46:18.886Z"
   },
   {
    "duration": 5,
    "start_time": "2024-07-17T09:46:27.991Z"
   },
   {
    "duration": 12,
    "start_time": "2024-07-17T09:46:32.482Z"
   },
   {
    "duration": 4,
    "start_time": "2024-07-17T09:46:43.304Z"
   },
   {
    "duration": 4,
    "start_time": "2024-07-17T09:46:55.565Z"
   },
   {
    "duration": 4,
    "start_time": "2024-07-17T09:49:13.122Z"
   },
   {
    "duration": 26,
    "start_time": "2024-07-17T09:49:45.761Z"
   },
   {
    "duration": 24,
    "start_time": "2024-07-17T09:49:48.797Z"
   },
   {
    "duration": 4,
    "start_time": "2024-07-17T09:49:49.153Z"
   },
   {
    "duration": 23,
    "start_time": "2024-07-17T09:50:07.815Z"
   },
   {
    "duration": 21,
    "start_time": "2024-07-17T09:50:14.135Z"
   },
   {
    "duration": 4,
    "start_time": "2024-07-17T09:50:17.157Z"
   },
   {
    "duration": 5,
    "start_time": "2024-07-17T09:51:04.357Z"
   },
   {
    "duration": 33,
    "start_time": "2024-07-17T09:51:29.121Z"
   },
   {
    "duration": 9,
    "start_time": "2024-07-17T09:51:44.477Z"
   },
   {
    "duration": 5,
    "start_time": "2024-07-17T09:52:03.529Z"
   },
   {
    "duration": 8,
    "start_time": "2024-07-17T09:52:35.165Z"
   },
   {
    "duration": 1345,
    "start_time": "2024-07-17T09:52:52.420Z"
   },
   {
    "duration": 3,
    "start_time": "2024-07-17T09:52:53.767Z"
   },
   {
    "duration": 64,
    "start_time": "2024-07-17T09:52:53.771Z"
   },
   {
    "duration": 427,
    "start_time": "2024-07-17T09:52:53.837Z"
   },
   {
    "duration": 17,
    "start_time": "2024-07-17T09:52:54.266Z"
   },
   {
    "duration": 19,
    "start_time": "2024-07-17T09:52:54.284Z"
   },
   {
    "duration": 13,
    "start_time": "2024-07-17T09:52:54.305Z"
   },
   {
    "duration": 20,
    "start_time": "2024-07-17T09:52:54.320Z"
   },
   {
    "duration": 8,
    "start_time": "2024-07-17T09:52:54.342Z"
   },
   {
    "duration": 9,
    "start_time": "2024-07-17T09:52:54.352Z"
   },
   {
    "duration": 24,
    "start_time": "2024-07-17T09:52:54.383Z"
   },
   {
    "duration": 182,
    "start_time": "2024-07-17T09:52:54.409Z"
   },
   {
    "duration": 80,
    "start_time": "2024-07-17T09:52:54.594Z"
   },
   {
    "duration": 38,
    "start_time": "2024-07-17T09:52:54.685Z"
   },
   {
    "duration": 34,
    "start_time": "2024-07-17T09:52:54.725Z"
   },
   {
    "duration": 53,
    "start_time": "2024-07-17T09:52:54.761Z"
   },
   {
    "duration": 4,
    "start_time": "2024-07-17T09:52:54.816Z"
   },
   {
    "duration": 4,
    "start_time": "2024-07-17T09:52:54.822Z"
   },
   {
    "duration": 6,
    "start_time": "2024-07-17T09:52:54.827Z"
   },
   {
    "duration": 1236,
    "start_time": "2024-07-17T09:52:54.834Z"
   },
   {
    "duration": 1170,
    "start_time": "2024-07-17T09:52:56.072Z"
   },
   {
    "duration": 1496,
    "start_time": "2024-07-17T09:52:57.243Z"
   },
   {
    "duration": 280,
    "start_time": "2024-07-17T09:52:58.741Z"
   },
   {
    "duration": 2,
    "start_time": "2024-07-17T09:52:59.023Z"
   },
   {
    "duration": 9,
    "start_time": "2024-07-17T09:52:59.027Z"
   },
   {
    "duration": 52,
    "start_time": "2024-07-17T09:52:59.038Z"
   },
   {
    "duration": 204,
    "start_time": "2024-07-17T09:52:59.092Z"
   },
   {
    "duration": 106,
    "start_time": "2024-07-17T09:52:59.299Z"
   },
   {
    "duration": 78,
    "start_time": "2024-07-17T09:52:59.408Z"
   },
   {
    "duration": 108,
    "start_time": "2024-07-17T09:52:59.488Z"
   },
   {
    "duration": 5,
    "start_time": "2024-07-17T09:52:59.597Z"
   },
   {
    "duration": 13,
    "start_time": "2024-07-17T09:52:59.603Z"
   },
   {
    "duration": 4,
    "start_time": "2024-07-17T09:52:59.618Z"
   },
   {
    "duration": 16,
    "start_time": "2024-07-17T09:52:59.623Z"
   },
   {
    "duration": 5,
    "start_time": "2024-07-17T09:55:05.797Z"
   },
   {
    "duration": 9,
    "start_time": "2024-07-17T09:55:06.822Z"
   },
   {
    "duration": 9,
    "start_time": "2024-07-17T09:55:31.983Z"
   },
   {
    "duration": 3,
    "start_time": "2024-07-17T09:56:40.655Z"
   },
   {
    "duration": 9,
    "start_time": "2024-07-17T09:56:41.128Z"
   },
   {
    "duration": 9,
    "start_time": "2024-07-17T09:56:41.935Z"
   },
   {
    "duration": 8,
    "start_time": "2024-07-17T09:56:42.582Z"
   },
   {
    "duration": 8,
    "start_time": "2024-07-17T09:57:14.824Z"
   },
   {
    "duration": 3,
    "start_time": "2024-07-17T09:58:51.033Z"
   },
   {
    "duration": 1453,
    "start_time": "2024-07-18T02:44:31.636Z"
   },
   {
    "duration": 3,
    "start_time": "2024-07-18T02:44:33.090Z"
   },
   {
    "duration": 47,
    "start_time": "2024-07-18T02:44:33.094Z"
   },
   {
    "duration": 823,
    "start_time": "2024-07-18T02:44:33.143Z"
   },
   {
    "duration": 14,
    "start_time": "2024-07-18T02:44:33.967Z"
   },
   {
    "duration": 24,
    "start_time": "2024-07-18T02:44:33.983Z"
   },
   {
    "duration": 27,
    "start_time": "2024-07-18T02:44:34.008Z"
   },
   {
    "duration": 28,
    "start_time": "2024-07-18T02:44:34.036Z"
   },
   {
    "duration": 10,
    "start_time": "2024-07-18T02:44:34.066Z"
   },
   {
    "duration": 41,
    "start_time": "2024-07-18T02:44:34.078Z"
   },
   {
    "duration": 47,
    "start_time": "2024-07-18T02:44:34.120Z"
   },
   {
    "duration": 107,
    "start_time": "2024-07-18T02:44:34.168Z"
   },
   {
    "duration": 51,
    "start_time": "2024-07-18T02:44:34.276Z"
   },
   {
    "duration": 31,
    "start_time": "2024-07-18T02:44:34.328Z"
   },
   {
    "duration": 42,
    "start_time": "2024-07-18T02:44:34.360Z"
   },
   {
    "duration": 30,
    "start_time": "2024-07-18T02:44:34.403Z"
   },
   {
    "duration": 4,
    "start_time": "2024-07-18T02:44:34.434Z"
   },
   {
    "duration": 9,
    "start_time": "2024-07-18T02:44:34.440Z"
   },
   {
    "duration": 6,
    "start_time": "2024-07-18T02:44:34.450Z"
   },
   {
    "duration": 962,
    "start_time": "2024-07-18T02:44:34.458Z"
   },
   {
    "duration": 878,
    "start_time": "2024-07-18T02:44:35.421Z"
   },
   {
    "duration": 1137,
    "start_time": "2024-07-18T02:44:36.302Z"
   },
   {
    "duration": 231,
    "start_time": "2024-07-18T02:44:37.440Z"
   },
   {
    "duration": 2,
    "start_time": "2024-07-18T02:44:37.672Z"
   },
   {
    "duration": 12,
    "start_time": "2024-07-18T02:44:37.675Z"
   },
   {
    "duration": 115,
    "start_time": "2024-07-18T02:44:37.689Z"
   },
   {
    "duration": 110,
    "start_time": "2024-07-18T02:44:37.809Z"
   },
   {
    "duration": 112,
    "start_time": "2024-07-18T02:44:38.003Z"
   },
   {
    "duration": 84,
    "start_time": "2024-07-18T02:44:38.119Z"
   },
   {
    "duration": 98,
    "start_time": "2024-07-18T02:44:38.204Z"
   },
   {
    "duration": 2,
    "start_time": "2024-07-18T02:44:38.304Z"
   },
   {
    "duration": 8,
    "start_time": "2024-07-18T02:44:38.308Z"
   },
   {
    "duration": 8,
    "start_time": "2024-07-18T02:44:38.318Z"
   },
   {
    "duration": 20,
    "start_time": "2024-07-18T02:44:38.328Z"
   },
   {
    "duration": 8,
    "start_time": "2024-07-18T02:44:38.349Z"
   },
   {
    "duration": 26,
    "start_time": "2024-07-18T02:44:38.358Z"
   },
   {
    "duration": 3,
    "start_time": "2024-07-18T02:45:59.116Z"
   },
   {
    "duration": 3,
    "start_time": "2024-07-18T02:46:58.418Z"
   },
   {
    "duration": 7,
    "start_time": "2024-07-18T02:47:03.913Z"
   },
   {
    "duration": 8,
    "start_time": "2024-07-18T02:47:08.553Z"
   },
   {
    "duration": 7,
    "start_time": "2024-07-18T02:47:12.566Z"
   },
   {
    "duration": 2,
    "start_time": "2024-07-18T02:47:39.479Z"
   },
   {
    "duration": 2,
    "start_time": "2024-07-18T02:48:33.204Z"
   },
   {
    "duration": 4,
    "start_time": "2024-07-18T03:04:39.252Z"
   },
   {
    "duration": 4,
    "start_time": "2024-07-18T03:06:58.921Z"
   },
   {
    "duration": 2,
    "start_time": "2024-07-18T03:08:23.612Z"
   },
   {
    "duration": 94,
    "start_time": "2024-07-18T03:08:48.987Z"
   },
   {
    "duration": 6,
    "start_time": "2024-07-18T03:09:09.161Z"
   },
   {
    "duration": 6,
    "start_time": "2024-07-18T03:09:15.174Z"
   },
   {
    "duration": 4,
    "start_time": "2024-07-18T03:09:44.789Z"
   },
   {
    "duration": 5,
    "start_time": "2024-07-18T03:17:32.216Z"
   },
   {
    "duration": 5,
    "start_time": "2024-07-18T03:19:06.739Z"
   },
   {
    "duration": 12,
    "start_time": "2024-07-18T03:20:01.861Z"
   },
   {
    "duration": 4,
    "start_time": "2024-07-18T03:20:25.498Z"
   },
   {
    "duration": 1169,
    "start_time": "2024-07-18T03:20:26.178Z"
   },
   {
    "duration": 5,
    "start_time": "2024-07-18T03:20:47.908Z"
   },
   {
    "duration": 1140,
    "start_time": "2024-07-18T03:20:48.815Z"
   },
   {
    "duration": 3,
    "start_time": "2024-07-18T03:22:45.129Z"
   },
   {
    "duration": 5,
    "start_time": "2024-07-18T03:22:48.029Z"
   },
   {
    "duration": 11,
    "start_time": "2024-07-18T03:22:48.581Z"
   },
   {
    "duration": 5,
    "start_time": "2024-07-18T03:23:03.547Z"
   },
   {
    "duration": 824,
    "start_time": "2024-07-18T03:23:04.617Z"
   },
   {
    "duration": 4,
    "start_time": "2024-07-18T03:23:20.268Z"
   },
   {
    "duration": 825,
    "start_time": "2024-07-18T03:23:21.614Z"
   },
   {
    "duration": 7,
    "start_time": "2024-07-18T03:23:25.898Z"
   },
   {
    "duration": 5,
    "start_time": "2024-07-18T03:23:28.398Z"
   },
   {
    "duration": 5,
    "start_time": "2024-07-18T03:23:30.394Z"
   },
   {
    "duration": 885,
    "start_time": "2024-07-18T03:23:33.182Z"
   },
   {
    "duration": 4,
    "start_time": "2024-07-18T03:23:41.066Z"
   },
   {
    "duration": 68,
    "start_time": "2024-07-18T03:24:13.368Z"
   },
   {
    "duration": 4,
    "start_time": "2024-07-18T03:24:18.914Z"
   },
   {
    "duration": 65,
    "start_time": "2024-07-18T03:24:31.556Z"
   },
   {
    "duration": 5,
    "start_time": "2024-07-18T03:24:36.794Z"
   },
   {
    "duration": 791,
    "start_time": "2024-07-18T03:24:37.819Z"
   },
   {
    "duration": 8,
    "start_time": "2024-07-18T03:25:04.770Z"
   },
   {
    "duration": 8,
    "start_time": "2024-07-18T03:25:10.336Z"
   },
   {
    "duration": 7,
    "start_time": "2024-07-18T03:25:49.472Z"
   },
   {
    "duration": 8,
    "start_time": "2024-07-18T03:26:10.225Z"
   },
   {
    "duration": 7,
    "start_time": "2024-07-18T03:26:15.382Z"
   },
   {
    "duration": 6,
    "start_time": "2024-07-18T03:26:30.878Z"
   },
   {
    "duration": 5,
    "start_time": "2024-07-18T03:26:53.054Z"
   },
   {
    "duration": 795,
    "start_time": "2024-07-18T03:26:53.755Z"
   },
   {
    "duration": 2415,
    "start_time": "2024-07-18T03:27:16.429Z"
   },
   {
    "duration": 1243,
    "start_time": "2024-07-18T03:31:15.523Z"
   },
   {
    "duration": 3,
    "start_time": "2024-07-18T03:31:16.767Z"
   },
   {
    "duration": 9,
    "start_time": "2024-07-18T03:31:16.770Z"
   },
   {
    "duration": 353,
    "start_time": "2024-07-18T03:31:16.781Z"
   },
   {
    "duration": 12,
    "start_time": "2024-07-18T03:31:17.135Z"
   },
   {
    "duration": 121,
    "start_time": "2024-07-18T03:31:17.148Z"
   },
   {
    "duration": 32,
    "start_time": "2024-07-18T03:31:17.270Z"
   },
   {
    "duration": 17,
    "start_time": "2024-07-18T03:31:17.303Z"
   },
   {
    "duration": 14,
    "start_time": "2024-07-18T03:31:17.321Z"
   },
   {
    "duration": 15,
    "start_time": "2024-07-18T03:31:17.337Z"
   },
   {
    "duration": 21,
    "start_time": "2024-07-18T03:31:17.353Z"
   },
   {
    "duration": 102,
    "start_time": "2024-07-18T03:31:17.376Z"
   },
   {
    "duration": 50,
    "start_time": "2024-07-18T03:31:17.479Z"
   },
   {
    "duration": 31,
    "start_time": "2024-07-18T03:31:17.530Z"
   },
   {
    "duration": 40,
    "start_time": "2024-07-18T03:31:17.562Z"
   },
   {
    "duration": 29,
    "start_time": "2024-07-18T03:31:17.604Z"
   },
   {
    "duration": 3,
    "start_time": "2024-07-18T03:31:17.635Z"
   },
   {
    "duration": 6,
    "start_time": "2024-07-18T03:31:17.639Z"
   },
   {
    "duration": 7,
    "start_time": "2024-07-18T03:31:17.646Z"
   },
   {
    "duration": 994,
    "start_time": "2024-07-18T03:31:17.655Z"
   },
   {
    "duration": 868,
    "start_time": "2024-07-18T03:31:18.651Z"
   },
   {
    "duration": 1133,
    "start_time": "2024-07-18T03:31:19.521Z"
   },
   {
    "duration": 229,
    "start_time": "2024-07-18T03:31:20.656Z"
   },
   {
    "duration": 3,
    "start_time": "2024-07-18T03:31:20.886Z"
   },
   {
    "duration": 17,
    "start_time": "2024-07-18T03:31:20.890Z"
   },
   {
    "duration": 38,
    "start_time": "2024-07-18T03:31:20.909Z"
   },
   {
    "duration": 156,
    "start_time": "2024-07-18T03:31:20.948Z"
   },
   {
    "duration": 111,
    "start_time": "2024-07-18T03:31:21.108Z"
   },
   {
    "duration": 101,
    "start_time": "2024-07-18T03:31:21.302Z"
   },
   {
    "duration": 3,
    "start_time": "2024-07-18T03:31:21.404Z"
   },
   {
    "duration": 4,
    "start_time": "2024-07-18T03:31:21.409Z"
   },
   {
    "duration": 8,
    "start_time": "2024-07-18T03:31:21.415Z"
   },
   {
    "duration": 17,
    "start_time": "2024-07-18T03:31:21.424Z"
   },
   {
    "duration": 7,
    "start_time": "2024-07-18T03:31:21.443Z"
   },
   {
    "duration": 8,
    "start_time": "2024-07-18T03:31:21.452Z"
   },
   {
    "duration": 6,
    "start_time": "2024-07-18T03:31:21.461Z"
   },
   {
    "duration": 2456,
    "start_time": "2024-07-18T03:31:21.468Z"
   },
   {
    "duration": 1779,
    "start_time": "2024-07-18T05:38:29.556Z"
   },
   {
    "duration": 3,
    "start_time": "2024-07-18T05:38:31.337Z"
   },
   {
    "duration": 63,
    "start_time": "2024-07-18T05:38:31.342Z"
   },
   {
    "duration": 1732,
    "start_time": "2024-07-18T05:38:36.001Z"
   },
   {
    "duration": 15,
    "start_time": "2024-07-18T05:38:37.735Z"
   },
   {
    "duration": 13,
    "start_time": "2024-07-18T05:38:37.752Z"
   },
   {
    "duration": 14,
    "start_time": "2024-07-18T05:38:37.767Z"
   },
   {
    "duration": 2,
    "start_time": "2024-07-18T05:41:18.734Z"
   },
   {
    "duration": 4,
    "start_time": "2024-07-18T05:41:47.471Z"
   },
   {
    "duration": 63,
    "start_time": "2024-07-18T05:42:13.026Z"
   },
   {
    "duration": 95,
    "start_time": "2024-07-18T05:42:13.187Z"
   },
   {
    "duration": 27,
    "start_time": "2024-07-18T05:42:13.395Z"
   },
   {
    "duration": 2,
    "start_time": "2024-07-18T05:42:43.055Z"
   },
   {
    "duration": 3,
    "start_time": "2024-07-18T05:42:43.482Z"
   },
   {
    "duration": 3,
    "start_time": "2024-07-18T05:43:15.406Z"
   },
   {
    "duration": 8,
    "start_time": "2024-07-18T05:43:21.298Z"
   },
   {
    "duration": 6,
    "start_time": "2024-07-18T05:43:21.559Z"
   },
   {
    "duration": 8,
    "start_time": "2024-07-18T05:43:21.912Z"
   },
   {
    "duration": 6,
    "start_time": "2024-07-18T05:44:03.806Z"
   },
   {
    "duration": 3,
    "start_time": "2024-07-18T06:09:19.549Z"
   },
   {
    "duration": 12,
    "start_time": "2024-07-18T06:09:19.554Z"
   },
   {
    "duration": 3,
    "start_time": "2024-07-18T06:09:19.568Z"
   },
   {
    "duration": 382,
    "start_time": "2024-07-18T06:09:19.572Z"
   },
   {
    "duration": 13,
    "start_time": "2024-07-18T06:09:19.956Z"
   },
   {
    "duration": 17,
    "start_time": "2024-07-18T06:09:19.970Z"
   },
   {
    "duration": 20,
    "start_time": "2024-07-18T06:09:19.989Z"
   },
   {
    "duration": 11,
    "start_time": "2024-07-18T06:09:20.011Z"
   },
   {
    "duration": 7,
    "start_time": "2024-07-18T06:09:20.024Z"
   },
   {
    "duration": 22,
    "start_time": "2024-07-18T06:09:20.032Z"
   },
   {
    "duration": 31,
    "start_time": "2024-07-18T06:09:20.055Z"
   },
   {
    "duration": 110,
    "start_time": "2024-07-18T06:09:20.087Z"
   },
   {
    "duration": 89,
    "start_time": "2024-07-18T06:09:20.199Z"
   },
   {
    "duration": 34,
    "start_time": "2024-07-18T06:09:20.291Z"
   },
   {
    "duration": 32,
    "start_time": "2024-07-18T06:09:20.327Z"
   },
   {
    "duration": 33,
    "start_time": "2024-07-18T06:09:20.381Z"
   },
   {
    "duration": 6,
    "start_time": "2024-07-18T06:09:20.416Z"
   },
   {
    "duration": 13,
    "start_time": "2024-07-18T06:09:20.423Z"
   },
   {
    "duration": 15,
    "start_time": "2024-07-18T06:09:20.437Z"
   },
   {
    "duration": 1198,
    "start_time": "2024-07-18T06:09:20.454Z"
   },
   {
    "duration": 979,
    "start_time": "2024-07-18T06:09:21.654Z"
   },
   {
    "duration": 1302,
    "start_time": "2024-07-18T06:09:22.635Z"
   },
   {
    "duration": 260,
    "start_time": "2024-07-18T06:09:23.938Z"
   },
   {
    "duration": 3,
    "start_time": "2024-07-18T06:09:24.199Z"
   },
   {
    "duration": 4,
    "start_time": "2024-07-18T06:09:24.203Z"
   },
   {
    "duration": 72,
    "start_time": "2024-07-18T06:09:24.209Z"
   },
   {
    "duration": 108,
    "start_time": "2024-07-18T06:09:24.286Z"
   },
   {
    "duration": 189,
    "start_time": "2024-07-18T06:09:24.396Z"
   },
   {
    "duration": 95,
    "start_time": "2024-07-18T06:09:24.587Z"
   },
   {
    "duration": 3,
    "start_time": "2024-07-18T06:09:24.684Z"
   },
   {
    "duration": 7,
    "start_time": "2024-07-18T06:09:24.688Z"
   },
   {
    "duration": 6,
    "start_time": "2024-07-18T06:09:24.696Z"
   },
   {
    "duration": 81,
    "start_time": "2024-07-18T06:09:24.703Z"
   },
   {
    "duration": 7,
    "start_time": "2024-07-18T06:09:24.785Z"
   },
   {
    "duration": 7,
    "start_time": "2024-07-18T06:09:24.793Z"
   },
   {
    "duration": 5,
    "start_time": "2024-07-18T06:09:24.801Z"
   },
   {
    "duration": 3075,
    "start_time": "2024-07-18T06:09:24.807Z"
   },
   {
    "duration": 49,
    "start_time": "2024-07-18T08:09:36.653Z"
   },
   {
    "duration": 1610,
    "start_time": "2024-07-18T08:09:46.169Z"
   },
   {
    "duration": 3,
    "start_time": "2024-07-18T08:09:47.781Z"
   },
   {
    "duration": 12,
    "start_time": "2024-07-18T08:09:47.785Z"
   },
   {
    "duration": 1798,
    "start_time": "2024-07-18T08:09:47.799Z"
   },
   {
    "duration": 15,
    "start_time": "2024-07-18T08:09:49.599Z"
   },
   {
    "duration": 13,
    "start_time": "2024-07-18T08:09:49.616Z"
   },
   {
    "duration": 62,
    "start_time": "2024-07-18T08:09:49.631Z"
   },
   {
    "duration": 12,
    "start_time": "2024-07-18T08:09:49.695Z"
   },
   {
    "duration": 19,
    "start_time": "2024-07-18T08:09:49.709Z"
   },
   {
    "duration": 57,
    "start_time": "2024-07-18T08:09:49.730Z"
   },
   {
    "duration": 36,
    "start_time": "2024-07-18T08:09:49.788Z"
   },
   {
    "duration": 274,
    "start_time": "2024-07-18T08:09:49.826Z"
   },
   {
    "duration": 110,
    "start_time": "2024-07-18T08:09:50.101Z"
   },
   {
    "duration": 94,
    "start_time": "2024-07-18T08:09:50.213Z"
   },
   {
    "duration": 89,
    "start_time": "2024-07-18T08:09:50.309Z"
   },
   {
    "duration": 86,
    "start_time": "2024-07-18T08:09:50.400Z"
   },
   {
    "duration": 5,
    "start_time": "2024-07-18T08:09:50.488Z"
   },
   {
    "duration": 23,
    "start_time": "2024-07-18T08:09:50.494Z"
   },
   {
    "duration": 24,
    "start_time": "2024-07-18T08:09:50.518Z"
   },
   {
    "duration": 1344,
    "start_time": "2024-07-18T08:09:50.543Z"
   },
   {
    "duration": 1080,
    "start_time": "2024-07-18T08:09:51.888Z"
   },
   {
    "duration": 1411,
    "start_time": "2024-07-18T08:09:52.970Z"
   },
   {
    "duration": 272,
    "start_time": "2024-07-18T08:09:54.385Z"
   },
   {
    "duration": 108,
    "start_time": "2024-07-18T08:09:54.658Z"
   },
   {
    "duration": 0,
    "start_time": "2024-07-18T08:09:54.767Z"
   },
   {
    "duration": 0,
    "start_time": "2024-07-18T08:09:54.769Z"
   },
   {
    "duration": 0,
    "start_time": "2024-07-18T08:09:54.769Z"
   },
   {
    "duration": 0,
    "start_time": "2024-07-18T08:09:54.770Z"
   },
   {
    "duration": 0,
    "start_time": "2024-07-18T08:09:54.771Z"
   },
   {
    "duration": 0,
    "start_time": "2024-07-18T08:09:54.772Z"
   },
   {
    "duration": 0,
    "start_time": "2024-07-18T08:09:54.773Z"
   },
   {
    "duration": 0,
    "start_time": "2024-07-18T08:09:54.785Z"
   },
   {
    "duration": 0,
    "start_time": "2024-07-18T08:09:54.786Z"
   },
   {
    "duration": 0,
    "start_time": "2024-07-18T08:09:54.787Z"
   },
   {
    "duration": 0,
    "start_time": "2024-07-18T08:09:54.788Z"
   },
   {
    "duration": 0,
    "start_time": "2024-07-18T08:09:54.789Z"
   },
   {
    "duration": 0,
    "start_time": "2024-07-18T08:09:54.790Z"
   },
   {
    "duration": 0,
    "start_time": "2024-07-18T08:09:54.791Z"
   },
   {
    "duration": 100,
    "start_time": "2024-07-18T08:10:02.773Z"
   },
   {
    "duration": 59,
    "start_time": "2024-07-18T08:11:03.977Z"
   },
   {
    "duration": 111,
    "start_time": "2024-07-18T08:11:08.334Z"
   },
   {
    "duration": 67,
    "start_time": "2024-07-18T08:12:25.880Z"
   },
   {
    "duration": 3025,
    "start_time": "2024-07-18T08:12:38.606Z"
   },
   {
    "duration": 16,
    "start_time": "2024-07-18T08:14:48.258Z"
   },
   {
    "duration": 11,
    "start_time": "2024-07-18T08:15:05.075Z"
   },
   {
    "duration": 7,
    "start_time": "2024-07-18T08:16:10.042Z"
   },
   {
    "duration": 69,
    "start_time": "2024-07-18T08:17:16.174Z"
   },
   {
    "duration": 54,
    "start_time": "2024-07-18T08:17:28.596Z"
   },
   {
    "duration": 62,
    "start_time": "2024-07-18T08:18:49.730Z"
   },
   {
    "duration": 5,
    "start_time": "2024-07-18T08:19:13.472Z"
   },
   {
    "duration": 57,
    "start_time": "2024-07-18T08:22:12.532Z"
   },
   {
    "duration": 1436,
    "start_time": "2024-07-18T08:22:33.493Z"
   },
   {
    "duration": 3,
    "start_time": "2024-07-18T08:22:34.931Z"
   },
   {
    "duration": 12,
    "start_time": "2024-07-18T08:22:34.935Z"
   },
   {
    "duration": 464,
    "start_time": "2024-07-18T08:22:34.949Z"
   },
   {
    "duration": 15,
    "start_time": "2024-07-18T08:22:35.415Z"
   },
   {
    "duration": 13,
    "start_time": "2024-07-18T08:22:35.431Z"
   },
   {
    "duration": 14,
    "start_time": "2024-07-18T08:22:35.445Z"
   },
   {
    "duration": 24,
    "start_time": "2024-07-18T08:22:35.460Z"
   },
   {
    "duration": 8,
    "start_time": "2024-07-18T08:22:35.485Z"
   },
   {
    "duration": 8,
    "start_time": "2024-07-18T08:22:35.495Z"
   },
   {
    "duration": 30,
    "start_time": "2024-07-18T08:22:35.505Z"
   },
   {
    "duration": 190,
    "start_time": "2024-07-18T08:22:35.536Z"
   },
   {
    "duration": 115,
    "start_time": "2024-07-18T08:22:35.727Z"
   },
   {
    "duration": 48,
    "start_time": "2024-07-18T08:22:35.845Z"
   },
   {
    "duration": 35,
    "start_time": "2024-07-18T08:22:35.894Z"
   },
   {
    "duration": 35,
    "start_time": "2024-07-18T08:22:35.931Z"
   },
   {
    "duration": 22,
    "start_time": "2024-07-18T08:22:35.967Z"
   },
   {
    "duration": 26,
    "start_time": "2024-07-18T08:22:35.991Z"
   },
   {
    "duration": 17,
    "start_time": "2024-07-18T08:22:36.019Z"
   },
   {
    "duration": 1196,
    "start_time": "2024-07-18T08:22:36.037Z"
   },
   {
    "duration": 1062,
    "start_time": "2024-07-18T08:22:37.234Z"
   },
   {
    "duration": 1408,
    "start_time": "2024-07-18T08:22:38.297Z"
   },
   {
    "duration": 271,
    "start_time": "2024-07-18T08:22:39.706Z"
   },
   {
    "duration": 3664,
    "start_time": "2024-07-18T08:22:39.978Z"
   },
   {
    "duration": 5,
    "start_time": "2024-07-18T08:22:43.643Z"
   },
   {
    "duration": 21,
    "start_time": "2024-07-18T08:22:43.649Z"
   },
   {
    "duration": 9,
    "start_time": "2024-07-18T08:22:43.672Z"
   },
   {
    "duration": 30,
    "start_time": "2024-07-18T08:22:43.684Z"
   },
   {
    "duration": 177,
    "start_time": "2024-07-18T08:22:43.716Z"
   },
   {
    "duration": 204,
    "start_time": "2024-07-18T08:22:43.895Z"
   },
   {
    "duration": 5,
    "start_time": "2024-07-18T08:22:44.102Z"
   },
   {
    "duration": 100,
    "start_time": "2024-07-18T08:22:44.185Z"
   },
   {
    "duration": 23,
    "start_time": "2024-07-18T08:22:44.287Z"
   },
   {
    "duration": 6,
    "start_time": "2024-07-18T08:22:44.312Z"
   },
   {
    "duration": 20,
    "start_time": "2024-07-18T08:22:44.319Z"
   },
   {
    "duration": 11,
    "start_time": "2024-07-18T08:22:44.340Z"
   },
   {
    "duration": 7,
    "start_time": "2024-07-18T08:22:44.353Z"
   },
   {
    "duration": 6,
    "start_time": "2024-07-18T08:22:44.361Z"
   },
   {
    "duration": 4897,
    "start_time": "2024-07-18T08:22:44.368Z"
   },
   {
    "duration": 3153,
    "start_time": "2024-07-18T08:23:28.918Z"
   },
   {
    "duration": 3128,
    "start_time": "2024-07-18T08:23:37.946Z"
   },
   {
    "duration": 3093,
    "start_time": "2024-07-18T08:24:52.243Z"
   }
  ],
  "kernelspec": {
   "display_name": "Python 3 (ipykernel)",
   "language": "python",
   "name": "python3"
  },
  "language_info": {
   "codemirror_mode": {
    "name": "ipython",
    "version": 3
   },
   "file_extension": ".py",
   "mimetype": "text/x-python",
   "name": "python",
   "nbconvert_exporter": "python",
   "pygments_lexer": "ipython3",
   "version": "3.11.7"
  },
  "toc": {
   "base_numbering": 1,
   "nav_menu": {},
   "number_sections": true,
   "sideBar": true,
   "skip_h1_title": false,
   "title_cell": "Table of Contents",
   "title_sidebar": "Contents",
   "toc_cell": false,
   "toc_position": {
    "height": "calc(100% - 180px)",
    "left": "10px",
    "top": "150px",
    "width": "460.781px"
   },
   "toc_section_display": true,
   "toc_window_display": true
  },
  "widgets": {
   "application/vnd.jupyter.widget-state+json": {
    "state": {},
    "version_major": 2,
    "version_minor": 0
   }
  }
 },
 "nbformat": 4,
 "nbformat_minor": 4
}
